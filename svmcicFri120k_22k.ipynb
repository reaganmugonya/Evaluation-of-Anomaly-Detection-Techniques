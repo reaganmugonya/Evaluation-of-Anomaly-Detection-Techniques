{
 "cells": [
  {
   "cell_type": "code",
   "execution_count": 1,
   "metadata": {},
   "outputs": [],
   "source": [
    "import pandas as pd\n",
    "import numpy as np\n",
    "import sys\n",
    "import sklearn\n",
    "import io\n",
    "import random"
   ]
  },
  {
   "cell_type": "code",
   "execution_count": 2,
   "metadata": {},
   "outputs": [],
   "source": [
    "train_data = pd.read_csv('Friday-02-03-2018_TrafficForML_CICFlowMeter_s120000Training.csv')\n",
    "test_data = pd.read_csv('Friday-02-03-2018_TrafficForML_CICFlowMeter_s22000Testing.csv')\n",
    "\n"
   ]
  },
  {
   "cell_type": "code",
   "execution_count": 3,
   "metadata": {},
   "outputs": [
    {
     "name": "stdout",
     "output_type": "stream",
     "text": [
      "Dimensions of the Training set: (119721, 83)\n",
      "Dimensions of the Testing set: (21940, 83)\n"
     ]
    }
   ],
   "source": [
    "print('Dimensions of the Training set:',train_data.shape)\n",
    "print('Dimensions of the Testing set:',test_data.shape)\n",
    "\n"
   ]
  },
  {
   "cell_type": "code",
   "execution_count": 4,
   "metadata": {},
   "outputs": [
    {
     "data": {
      "text/html": [
       "<div>\n",
       "<style scoped>\n",
       "    .dataframe tbody tr th:only-of-type {\n",
       "        vertical-align: middle;\n",
       "    }\n",
       "\n",
       "    .dataframe tbody tr th {\n",
       "        vertical-align: top;\n",
       "    }\n",
       "\n",
       "    .dataframe thead th {\n",
       "        text-align: right;\n",
       "    }\n",
       "</style>\n",
       "<table border=\"1\" class=\"dataframe\">\n",
       "  <thead>\n",
       "    <tr style=\"text-align: right;\">\n",
       "      <th></th>\n",
       "      <th>Unnamed: 0</th>\n",
       "      <th>Dst Port</th>\n",
       "      <th>Timestamp</th>\n",
       "      <th>Flow Duration</th>\n",
       "      <th>Tot Fwd Pkts</th>\n",
       "      <th>Tot Bwd Pkts</th>\n",
       "      <th>TotLen Fwd Pkts</th>\n",
       "      <th>TotLen Bwd Pkts</th>\n",
       "      <th>Fwd Pkt Len Max</th>\n",
       "      <th>Fwd Pkt Len Min</th>\n",
       "      <th>...</th>\n",
       "      <th>Active Max</th>\n",
       "      <th>Active Min</th>\n",
       "      <th>Idle Mean</th>\n",
       "      <th>Idle Std</th>\n",
       "      <th>Idle Max</th>\n",
       "      <th>Idle Min</th>\n",
       "      <th>Label</th>\n",
       "      <th>Protocol_0</th>\n",
       "      <th>Protocol_6</th>\n",
       "      <th>Protocol_17</th>\n",
       "    </tr>\n",
       "  </thead>\n",
       "  <tbody>\n",
       "    <tr>\n",
       "      <th>0</th>\n",
       "      <td>83436</td>\n",
       "      <td>3389</td>\n",
       "      <td>2/3/2018 5:04</td>\n",
       "      <td>1663241</td>\n",
       "      <td>8</td>\n",
       "      <td>7</td>\n",
       "      <td>1128</td>\n",
       "      <td>1581.0</td>\n",
       "      <td>661</td>\n",
       "      <td>0</td>\n",
       "      <td>...</td>\n",
       "      <td>0.0</td>\n",
       "      <td>0.0</td>\n",
       "      <td>0.000</td>\n",
       "      <td>0.000</td>\n",
       "      <td>0.0</td>\n",
       "      <td>0.0</td>\n",
       "      <td>0</td>\n",
       "      <td>0</td>\n",
       "      <td>1</td>\n",
       "      <td>0</td>\n",
       "    </tr>\n",
       "    <tr>\n",
       "      <th>1</th>\n",
       "      <td>62357</td>\n",
       "      <td>443</td>\n",
       "      <td>2/3/2018 5:12</td>\n",
       "      <td>116252603</td>\n",
       "      <td>61</td>\n",
       "      <td>109</td>\n",
       "      <td>598</td>\n",
       "      <td>129493.0</td>\n",
       "      <td>342</td>\n",
       "      <td>0</td>\n",
       "      <td>...</td>\n",
       "      <td>679582.0</td>\n",
       "      <td>32072.0</td>\n",
       "      <td>9601618.667</td>\n",
       "      <td>1418120.035</td>\n",
       "      <td>10100000.0</td>\n",
       "      <td>5099243.0</td>\n",
       "      <td>0</td>\n",
       "      <td>0</td>\n",
       "      <td>1</td>\n",
       "      <td>0</td>\n",
       "    </tr>\n",
       "    <tr>\n",
       "      <th>2</th>\n",
       "      <td>10901</td>\n",
       "      <td>80</td>\n",
       "      <td>2/3/2018 3:41</td>\n",
       "      <td>1002</td>\n",
       "      <td>3</td>\n",
       "      <td>4</td>\n",
       "      <td>148</td>\n",
       "      <td>243.0</td>\n",
       "      <td>148</td>\n",
       "      <td>0</td>\n",
       "      <td>...</td>\n",
       "      <td>0.0</td>\n",
       "      <td>0.0</td>\n",
       "      <td>0.000</td>\n",
       "      <td>0.000</td>\n",
       "      <td>0.0</td>\n",
       "      <td>0.0</td>\n",
       "      <td>0</td>\n",
       "      <td>0</td>\n",
       "      <td>1</td>\n",
       "      <td>0</td>\n",
       "    </tr>\n",
       "    <tr>\n",
       "      <th>3</th>\n",
       "      <td>30997</td>\n",
       "      <td>53</td>\n",
       "      <td>2/3/2018 9:09</td>\n",
       "      <td>1278</td>\n",
       "      <td>1</td>\n",
       "      <td>1</td>\n",
       "      <td>40</td>\n",
       "      <td>139.0</td>\n",
       "      <td>40</td>\n",
       "      <td>40</td>\n",
       "      <td>...</td>\n",
       "      <td>0.0</td>\n",
       "      <td>0.0</td>\n",
       "      <td>0.000</td>\n",
       "      <td>0.000</td>\n",
       "      <td>0.0</td>\n",
       "      <td>0.0</td>\n",
       "      <td>0</td>\n",
       "      <td>0</td>\n",
       "      <td>0</td>\n",
       "      <td>1</td>\n",
       "    </tr>\n",
       "    <tr>\n",
       "      <th>4</th>\n",
       "      <td>87079</td>\n",
       "      <td>52371</td>\n",
       "      <td>2/3/2018 11:59</td>\n",
       "      <td>30</td>\n",
       "      <td>2</td>\n",
       "      <td>0</td>\n",
       "      <td>0</td>\n",
       "      <td>0.0</td>\n",
       "      <td>0</td>\n",
       "      <td>0</td>\n",
       "      <td>...</td>\n",
       "      <td>0.0</td>\n",
       "      <td>0.0</td>\n",
       "      <td>0.000</td>\n",
       "      <td>0.000</td>\n",
       "      <td>0.0</td>\n",
       "      <td>0.0</td>\n",
       "      <td>0</td>\n",
       "      <td>0</td>\n",
       "      <td>1</td>\n",
       "      <td>0</td>\n",
       "    </tr>\n",
       "  </tbody>\n",
       "</table>\n",
       "<p>5 rows × 83 columns</p>\n",
       "</div>"
      ],
      "text/plain": [
       "   Unnamed: 0  Dst Port       Timestamp  Flow Duration  Tot Fwd Pkts  \\\n",
       "0       83436      3389   2/3/2018 5:04        1663241             8   \n",
       "1       62357       443   2/3/2018 5:12      116252603            61   \n",
       "2       10901        80   2/3/2018 3:41           1002             3   \n",
       "3       30997        53   2/3/2018 9:09           1278             1   \n",
       "4       87079     52371  2/3/2018 11:59             30             2   \n",
       "\n",
       "   Tot Bwd Pkts  TotLen Fwd Pkts  TotLen Bwd Pkts  Fwd Pkt Len Max  \\\n",
       "0             7             1128           1581.0              661   \n",
       "1           109              598         129493.0              342   \n",
       "2             4              148            243.0              148   \n",
       "3             1               40            139.0               40   \n",
       "4             0                0              0.0                0   \n",
       "\n",
       "   Fwd Pkt Len Min  ...  Active Max  Active Min    Idle Mean     Idle Std  \\\n",
       "0                0  ...         0.0         0.0        0.000        0.000   \n",
       "1                0  ...    679582.0     32072.0  9601618.667  1418120.035   \n",
       "2                0  ...         0.0         0.0        0.000        0.000   \n",
       "3               40  ...         0.0         0.0        0.000        0.000   \n",
       "4                0  ...         0.0         0.0        0.000        0.000   \n",
       "\n",
       "     Idle Max   Idle Min  Label  Protocol_0  Protocol_6  Protocol_17  \n",
       "0         0.0        0.0      0           0           1            0  \n",
       "1  10100000.0  5099243.0      0           0           1            0  \n",
       "2         0.0        0.0      0           0           1            0  \n",
       "3         0.0        0.0      0           0           0            1  \n",
       "4         0.0        0.0      0           0           1            0  \n",
       "\n",
       "[5 rows x 83 columns]"
      ]
     },
     "execution_count": 4,
     "metadata": {},
     "output_type": "execute_result"
    }
   ],
   "source": [
    "train_data.head(5)"
   ]
  },
  {
   "cell_type": "code",
   "execution_count": 5,
   "metadata": {},
   "outputs": [
    {
     "data": {
      "text/plain": [
       "0         7366\n",
       "1         7827\n",
       "2         1992\n",
       "3        18099\n",
       "4         5783\n",
       "         ...  \n",
       "21935    12302\n",
       "21936    15012\n",
       "21937    19893\n",
       "21938     8769\n",
       "21939    19532\n",
       "Name: Unnamed: 0, Length: 21940, dtype: int64"
      ]
     },
     "execution_count": 5,
     "metadata": {},
     "output_type": "execute_result"
    }
   ],
   "source": [
    "train_data.pop(\"Unnamed: 0\")\n",
    "test_data.pop(\"Unnamed: 0\")"
   ]
  },
  {
   "cell_type": "code",
   "execution_count": 6,
   "metadata": {},
   "outputs": [
    {
     "data": {
      "text/plain": [
       "0         2/3/2018 9:41\n",
       "1         2/3/2018 3:30\n",
       "2        2/3/2018 10:34\n",
       "3         2/3/2018 1:51\n",
       "4         2/3/2018 4:00\n",
       "              ...      \n",
       "21935    2/3/2018 11:20\n",
       "21936     2/3/2018 3:31\n",
       "21937     2/3/2018 1:41\n",
       "21938     2/3/2018 2:26\n",
       "21939     2/3/2018 3:50\n",
       "Name: Timestamp, Length: 21940, dtype: object"
      ]
     },
     "execution_count": 6,
     "metadata": {},
     "output_type": "execute_result"
    }
   ],
   "source": [
    "train_data.pop(\"Timestamp\")\n",
    "test_data.pop(\"Timestamp\")"
   ]
  },
  {
   "cell_type": "code",
   "execution_count": 7,
   "metadata": {},
   "outputs": [],
   "source": [
    "train_data = train_data[np.isfinite(train_data).all(1)]\n",
    "test_data = test_data[np.isfinite(test_data).all(1)]"
   ]
  },
  {
   "cell_type": "code",
   "execution_count": 8,
   "metadata": {},
   "outputs": [
    {
     "name": "stdout",
     "output_type": "stream",
     "text": [
      "Label distribution Training set:\n",
      "0    86792\n",
      "1    32750\n",
      "Name: Label, dtype: int64\n",
      "\n",
      "Label distribution Test set:\n",
      "0    15810\n",
      "1     6096\n",
      "Name: Label, dtype: int64\n"
     ]
    }
   ],
   "source": [
    "print('Label distribution Training set:')\n",
    "print(train_data['Label'].value_counts())\n",
    "print()\n",
    "print('Label distribution Test set:')\n",
    "print(test_data['Label'].value_counts())"
   ]
  },
  {
   "cell_type": "code",
   "execution_count": 9,
   "metadata": {},
   "outputs": [
    {
     "name": "stdout",
     "output_type": "stream",
     "text": [
      "Dimensions of the Training set: (119542, 81)\n",
      "Dimensions of the Testing set: (21906, 81)\n"
     ]
    }
   ],
   "source": [
    "print('Dimensions of the Training set:',train_data.shape)\n",
    "print('Dimensions of the Testing set:',test_data.shape)"
   ]
  },
  {
   "cell_type": "code",
   "execution_count": 10,
   "metadata": {},
   "outputs": [
    {
     "name": "stdout",
     "output_type": "stream",
     "text": [
      "Train:\n",
      "Dimensions of Benign: (86792, 81)\n",
      "Dimensions of Anomaly: (119542, 81)\n",
      "\n",
      "Test:\n",
      "Dimensions of Begin: (15810, 81)\n",
      "Dimensions of Anomaly: (21906, 81)\n"
     ]
    }
   ],
   "source": [
    "to_drop_Benign = [0,0]\n",
    "to_drop_Anomaly = [0,1]\n",
    "\n",
    "Benign_df=train_data[train_data['Label'].isin(to_drop_Benign)];\n",
    "Anomaly_df=train_data[train_data['Label'].isin(to_drop_Anomaly)];\n",
    "\n",
    "#test\n",
    "Benign_df_test=test_data[test_data['Label'].isin(to_drop_Benign)];\n",
    "Anomaly_df_test=test_data[test_data['Label'].isin(to_drop_Anomaly)];\n",
    "\n",
    "print('Train:')\n",
    "print('Dimensions of Benign:' ,Benign_df.shape)\n",
    "print('Dimensions of Anomaly:' ,Anomaly_df.shape)\n",
    "print()\n",
    "print('Test:')\n",
    "print('Dimensions of Begin:' ,Benign_df_test.shape)\n",
    "print('Dimensions of Anomaly:' ,Anomaly_df_test.shape)"
   ]
  },
  {
   "cell_type": "code",
   "execution_count": 11,
   "metadata": {},
   "outputs": [],
   "source": [
    "#Split dataframes into X & Y\n",
    "# X Properties, Y result variables\n",
    "\n",
    "X_Benign = Benign_df.drop('Label',1)\n",
    "Y_Benign = Benign_df.Label\n",
    "\n",
    "X_Anomaly = Anomaly_df.drop('Label',1)\n",
    "Y_Anomaly = Anomaly_df.Label\n",
    "\n",
    "\n",
    "#test\n",
    "X_Benign_test = Benign_df_test.drop('Label',1)\n",
    "Y_Benign_test = Benign_df_test.Label\n",
    "\n",
    "X_Anomaly_test = Anomaly_df_test.drop('Label',1)\n",
    "Y_Anomaly_test = Anomaly_df_test.Label\n"
   ]
  },
  {
   "cell_type": "code",
   "execution_count": 12,
   "metadata": {},
   "outputs": [],
   "source": [
    "from sklearn import preprocessing\n",
    "\n",
    "scaler1 = preprocessing.StandardScaler().fit(X_Anomaly)\n",
    "X_Anomaly=scaler1.transform(X_Anomaly)\n",
    "\n",
    "\n",
    "# test data\n",
    "\n",
    "scaler2 = preprocessing.StandardScaler().fit(X_Anomaly_test)\n",
    "X_Anomaly_test=scaler2.transform(X_Anomaly_test)"
   ]
  },
  {
   "cell_type": "markdown",
   "metadata": {},
   "source": [
    "# SVM"
   ]
  },
  {
   "cell_type": "code",
   "execution_count": 13,
   "metadata": {},
   "outputs": [],
   "source": [
    "import time"
   ]
  },
  {
   "cell_type": "code",
   "execution_count": 14,
   "metadata": {},
   "outputs": [],
   "source": [
    "from sklearn.svm import SVC\n",
    "\n",
    "clf_SVM_Anomaly=SVC(kernel='linear', C=1.0, random_state=0)\n",
    "train0 = time.time()\n",
    "\n",
    "clf_SVM_Anomaly.fit(X_Anomaly, Y_Anomaly.astype(int))\n",
    "train1 = time.time() - train0"
   ]
  },
  {
   "cell_type": "code",
   "execution_count": 15,
   "metadata": {},
   "outputs": [
    {
     "data": {
      "text/html": [
       "<div>\n",
       "<style scoped>\n",
       "    .dataframe tbody tr th:only-of-type {\n",
       "        vertical-align: middle;\n",
       "    }\n",
       "\n",
       "    .dataframe tbody tr th {\n",
       "        vertical-align: top;\n",
       "    }\n",
       "\n",
       "    .dataframe thead th {\n",
       "        text-align: right;\n",
       "    }\n",
       "</style>\n",
       "<table border=\"1\" class=\"dataframe\">\n",
       "  <thead>\n",
       "    <tr style=\"text-align: right;\">\n",
       "      <th>Predicted attacks</th>\n",
       "      <th>0</th>\n",
       "      <th>1</th>\n",
       "    </tr>\n",
       "    <tr>\n",
       "      <th>Actual attacks</th>\n",
       "      <th></th>\n",
       "      <th></th>\n",
       "    </tr>\n",
       "  </thead>\n",
       "  <tbody>\n",
       "    <tr>\n",
       "      <th>0</th>\n",
       "      <td>15524</td>\n",
       "      <td>286</td>\n",
       "    </tr>\n",
       "    <tr>\n",
       "      <th>1</th>\n",
       "      <td>1</td>\n",
       "      <td>6095</td>\n",
       "    </tr>\n",
       "  </tbody>\n",
       "</table>\n",
       "</div>"
      ],
      "text/plain": [
       "Predicted attacks      0     1\n",
       "Actual attacks                \n",
       "0                  15524   286\n",
       "1                      1  6095"
      ]
     },
     "execution_count": 15,
     "metadata": {},
     "output_type": "execute_result"
    }
   ],
   "source": [
    "test0 = time.time()\n",
    "Y_Anomaly_pred=clf_SVM_Anomaly.predict(X_Anomaly_test)\n",
    "test1 = time.time() - test0\n",
    "\n",
    "# Create confusion matrix\n",
    "pd.crosstab(Y_Anomaly_test, Y_Anomaly_pred, rownames=['Actual attacks'], colnames=['Predicted attacks'])\n"
   ]
  },
  {
   "cell_type": "code",
   "execution_count": 16,
   "metadata": {},
   "outputs": [
    {
     "name": "stdout",
     "output_type": "stream",
     "text": [
      "Confusion_matrix\n",
      "[[15524   286]\n",
      " [    1  6095]]\n",
      "....\n",
      "FP [  1. 286.]\n",
      "FN [286.   1.]\n",
      "TP [15524.  6095.]\n",
      "TN [ 6095. 15524.]\n",
      "TPR [0.98191018 0.99983596]\n",
      "TNR [0.99983596 0.98191018]\n",
      "PPV [0.99993559 0.95517944]\n",
      "FPR [0.00016404 0.01808982]\n",
      "FNR [0.01808982 0.00016404]\n",
      "FDR [6.44122383e-05 4.48205610e-02]\n",
      "ACC [0.98689857 0.98689857]\n"
     ]
    }
   ],
   "source": [
    "from sklearn.metrics import confusion_matrix\n",
    "\n",
    "cnf_matrix = confusion_matrix(Y_Anomaly_test, Y_Anomaly_pred)\n",
    "\n",
    "print('Confusion_matrix')\n",
    "print(cnf_matrix)\n",
    "print('....')\n",
    "\n",
    "FP = cnf_matrix.sum(axis=0) - np.diag(cnf_matrix)\n",
    "FN = cnf_matrix.sum(axis=1) - np.diag(cnf_matrix)\n",
    "TP = np.diag(cnf_matrix)\n",
    "TN = cnf_matrix.sum() - (FP+FN+TP)\n",
    "\n",
    "FP = FP.astype(float)\n",
    "FN = FN.astype(float)\n",
    "TP = TP.astype(float)\n",
    "TN = TN.astype(float)\n",
    "# Sensitivity, hit rate, recall, or true positive rate\n",
    "TPR = TP/(TP+FN)\n",
    "# Specificity or true negative rate\n",
    "TNR = TN/(TN+FP) \n",
    "# Precision or positive predictive value\n",
    "PPV = TP/(TP+FP)\n",
    "# Negative predictive value\n",
    "NPV = TN/(TN+FN)\n",
    "# Fall out or false positive rate\n",
    "FPR = FP/(FP+TN)\n",
    "# False negative rate\n",
    "FNR = FN/(TP+FN)\n",
    "# False discovery rate\n",
    "FDR = FP/(TP+FP)\n",
    "# Overall accuracy for each class\n",
    "ACC = (TP+TN)/(TP+FP+FN+TN)\n",
    "\n",
    "print('FP', FP)\n",
    "print('FN', FN)\n",
    "print('TP', TP)\n",
    "print('TN', TN)\n",
    "print('TPR', TPR)\n",
    "print('TNR', TNR)\n",
    "print('PPV', PPV)\n",
    "print('FPR', FPR)\n",
    "print('FNR', FNR)\n",
    "print('FDR', FDR)\n",
    "print('ACC', ACC)"
   ]
  },
  {
   "cell_type": "code",
   "execution_count": 17,
   "metadata": {},
   "outputs": [
    {
     "name": "stdout",
     "output_type": "stream",
     "text": [
      "Accuracy: 0.98708 (+/- 0.00344)\n",
      "Precision: 0.95625 (+/- 0.01198)\n",
      "Recall: 0.99934 (+/- 0.00301)\n",
      "F-measure: 0.97731 (+/- 0.00589)\n",
      "train_time:141.066s\n",
      "\n",
      "test_time:9.141s\n",
      "\n"
     ]
    }
   ],
   "source": [
    "from sklearn.model_selection import cross_val_score\n",
    "from sklearn import metrics\n",
    "accuracy = cross_val_score(clf_SVM_Anomaly, X_Anomaly_test, Y_Anomaly_test, cv=10, scoring='accuracy')\n",
    "print(\"Accuracy: %0.5f (+/- %0.5f)\" % (accuracy.mean(), accuracy.std() * 2))\n",
    "precision = cross_val_score(clf_SVM_Anomaly, X_Anomaly_test, Y_Anomaly_test, cv=10, scoring='precision')\n",
    "print(\"Precision: %0.5f (+/- %0.5f)\" % (precision.mean(), precision.std() * 2))\n",
    "recall = cross_val_score(clf_SVM_Anomaly, X_Anomaly_test, Y_Anomaly_test, cv=10, scoring='recall')\n",
    "print(\"Recall: %0.5f (+/- %0.5f)\" % (recall.mean(), recall.std() * 2))\n",
    "f = cross_val_score(clf_SVM_Anomaly, X_Anomaly_test, Y_Anomaly_test, cv=10, scoring='f1')\n",
    "print(\"F-measure: %0.5f (+/- %0.5f)\" % (f.mean(), f.std() * 2))\n",
    "print(\"train_time:%.3fs\\n\" %train1)\n",
    "print(\"test_time:%.3fs\\n\" %test1)"
   ]
  },
  {
   "cell_type": "code",
   "execution_count": 18,
   "metadata": {},
   "outputs": [
    {
     "name": "stdout",
     "output_type": "stream",
     "text": [
      "Area under the ROC curve: %f 0.9908730707167297\n",
      "Threshold: %f [2 1 0]\n",
      "FPR: %f [0.         0.01808982 1.        ]\n",
      "TPR: %f [0.         0.99983596 1.        ]\n"
     ]
    }
   ],
   "source": [
    "from sklearn.metrics import roc_curve, auc\n",
    "\n",
    "fpr, tpr, thresholds = roc_curve(Y_Anomaly_test, Y_Anomaly_pred)\n",
    "roc_auc = auc(fpr, tpr)\n",
    "print(\"Area under the ROC curve: %f\", roc_auc)\n",
    "print(\"Threshold: %f\", thresholds)\n",
    "print(\"FPR: %f\", fpr)\n",
    "print(\"TPR: %f\", tpr)"
   ]
  },
  {
   "cell_type": "code",
   "execution_count": 19,
   "metadata": {},
   "outputs": [
    {
     "data": {
      "image/png": "[encoded data removed]",
      "text/plain": [
       "<Figure size 432x288 with 1 Axes>"
      ]
     },
     "metadata": {
      "needs_background": "light"
     },
     "output_type": "display_data"
    }
   ],
   "source": [
    "import pylab as pl\n",
    "\n",
    "pl.clf()\n",
    "pl.plot(fpr, tpr, label='ROC curve (area =%0.2f)'% roc_auc)\n",
    "pl.plot([0,1],[0,1], 'k--')\n",
    "pl.xlim([0.0, 1.0])\n",
    "pl.ylim([0.0, 1.0])\n",
    "pl.xlabel('False Postive Rate')\n",
    "pl.ylabel('True Postive Rate')\n",
    "pl.title('Receiver operating characteristic')\n",
    "pl.legend(loc=\"lower right\")\n",
    "pl.savefig(\"ids_linear_roc\")"
   ]
  },
  {
   "cell_type": "code",
   "execution_count": 20,
   "metadata": {},
   "outputs": [],
   "source": [
    "from sklearn.svm import SVC\n",
    "\n",
    "clf_SVM_Anomaly=SVC(kernel='rbf', C=1.0, random_state=0)\n",
    "train0 = time.time()\n",
    "\n",
    "clf_SVM_Anomaly.fit(X_Anomaly, Y_Anomaly.astype(int))\n",
    "train1 = time.time() - train0"
   ]
  },
  {
   "cell_type": "code",
   "execution_count": 21,
   "metadata": {},
   "outputs": [
    {
     "data": {
      "text/html": [
       "<div>\n",
       "<style scoped>\n",
       "    .dataframe tbody tr th:only-of-type {\n",
       "        vertical-align: middle;\n",
       "    }\n",
       "\n",
       "    .dataframe tbody tr th {\n",
       "        vertical-align: top;\n",
       "    }\n",
       "\n",
       "    .dataframe thead th {\n",
       "        text-align: right;\n",
       "    }\n",
       "</style>\n",
       "<table border=\"1\" class=\"dataframe\">\n",
       "  <thead>\n",
       "    <tr style=\"text-align: right;\">\n",
       "      <th>Predicted attacks</th>\n",
       "      <th>0</th>\n",
       "      <th>1</th>\n",
       "    </tr>\n",
       "    <tr>\n",
       "      <th>Actual attacks</th>\n",
       "      <th></th>\n",
       "      <th></th>\n",
       "    </tr>\n",
       "  </thead>\n",
       "  <tbody>\n",
       "    <tr>\n",
       "      <th>0</th>\n",
       "      <td>15744</td>\n",
       "      <td>66</td>\n",
       "    </tr>\n",
       "    <tr>\n",
       "      <th>1</th>\n",
       "      <td>1</td>\n",
       "      <td>6095</td>\n",
       "    </tr>\n",
       "  </tbody>\n",
       "</table>\n",
       "</div>"
      ],
      "text/plain": [
       "Predicted attacks      0     1\n",
       "Actual attacks                \n",
       "0                  15744    66\n",
       "1                      1  6095"
      ]
     },
     "execution_count": 21,
     "metadata": {},
     "output_type": "execute_result"
    }
   ],
   "source": [
    "test0 = time.time()\n",
    "Y_Anomaly_pred=clf_SVM_Anomaly.predict(X_Anomaly_test)\n",
    "test1 = time.time() - test0\n",
    "\n",
    "# Create confusion matrix\n",
    "pd.crosstab(Y_Anomaly_test, Y_Anomaly_pred, rownames=['Actual attacks'], colnames=['Predicted attacks'])"
   ]
  },
  {
   "cell_type": "code",
   "execution_count": 22,
   "metadata": {},
   "outputs": [
    {
     "name": "stdout",
     "output_type": "stream",
     "text": [
      "Confusion_matrix\n",
      "[[15744    66]\n",
      " [    1  6095]]\n",
      "....\n",
      "FP [ 1. 66.]\n",
      "FN [66.  1.]\n",
      "TP [15744.  6095.]\n",
      "TN [ 6095. 15744.]\n",
      "TPR [0.99582543 0.99983596]\n",
      "TNR [0.99983596 0.99582543]\n",
      "PPV [0.99993649 0.98928745]\n",
      "FPR [0.00016404 0.00417457]\n",
      "FNR [0.00417457 0.00016404]\n",
      "FDR [6.35122261e-05 1.07125467e-02]\n",
      "ACC [0.99694148 0.99694148]\n"
     ]
    }
   ],
   "source": [
    "from sklearn.metrics import confusion_matrix\n",
    "\n",
    "cnf_matrix = confusion_matrix(Y_Anomaly_test, Y_Anomaly_pred)\n",
    "\n",
    "print('Confusion_matrix')\n",
    "print(cnf_matrix)\n",
    "print('....')\n",
    "\n",
    "FP = cnf_matrix.sum(axis=0) - np.diag(cnf_matrix)\n",
    "FN = cnf_matrix.sum(axis=1) - np.diag(cnf_matrix)\n",
    "TP = np.diag(cnf_matrix)\n",
    "TN = cnf_matrix.sum() - (FP+FN+TP)\n",
    "\n",
    "FP = FP.astype(float)\n",
    "FN = FN.astype(float)\n",
    "TP = TP.astype(float)\n",
    "TN = TN.astype(float)\n",
    "# Sensitivity, hit rate, recall, or true positive rate\n",
    "TPR = TP/(TP+FN)\n",
    "# Specificity or true negative rate\n",
    "TNR = TN/(TN+FP) \n",
    "# Precision or positive predictive value\n",
    "PPV = TP/(TP+FP)\n",
    "# Negative predictive value\n",
    "NPV = TN/(TN+FN)\n",
    "# Fall out or false positive rate\n",
    "FPR = FP/(FP+TN)\n",
    "# False negative rate\n",
    "FNR = FN/(TP+FN)\n",
    "# False discovery rate\n",
    "FDR = FP/(TP+FP)\n",
    "# Overall accuracy for each class\n",
    "ACC = (TP+TN)/(TP+FP+FN+TN)\n",
    "\n",
    "print('FP', FP)\n",
    "print('FN', FN)\n",
    "print('TP', TP)\n",
    "print('TN', TN)\n",
    "print('TPR', TPR)\n",
    "print('TNR', TNR)\n",
    "print('PPV', PPV)\n",
    "print('FPR', FPR)\n",
    "print('FNR', FNR)\n",
    "print('FDR', FDR)\n",
    "print('ACC', ACC)"
   ]
  },
  {
   "cell_type": "code",
   "execution_count": 23,
   "metadata": {},
   "outputs": [
    {
     "name": "stdout",
     "output_type": "stream",
     "text": [
      "Accuracy: 0.98795 (+/- 0.00594)\n",
      "Precision: 0.96004 (+/- 0.01929)\n",
      "Recall: 0.99836 (+/- 0.00388)\n",
      "F-measure: 0.97880 (+/- 0.01019)\n",
      "train_time:747.390s\n",
      "\n",
      "test_time:12.460s\n",
      "\n"
     ]
    }
   ],
   "source": [
    "from sklearn.model_selection import cross_val_score\n",
    "from sklearn import metrics\n",
    "accuracy = cross_val_score(clf_SVM_Anomaly, X_Anomaly_test, Y_Anomaly_test, cv=10, scoring='accuracy')\n",
    "print(\"Accuracy: %0.5f (+/- %0.5f)\" % (accuracy.mean(), accuracy.std() * 2))\n",
    "precision = cross_val_score(clf_SVM_Anomaly, X_Anomaly_test, Y_Anomaly_test, cv=10, scoring='precision')\n",
    "print(\"Precision: %0.5f (+/- %0.5f)\" % (precision.mean(), precision.std() * 2))\n",
    "recall = cross_val_score(clf_SVM_Anomaly, X_Anomaly_test, Y_Anomaly_test, cv=10, scoring='recall')\n",
    "print(\"Recall: %0.5f (+/- %0.5f)\" % (recall.mean(), recall.std() * 2))\n",
    "f = cross_val_score(clf_SVM_Anomaly, X_Anomaly_test, Y_Anomaly_test, cv=10, scoring='f1')\n",
    "print(\"F-measure: %0.5f (+/- %0.5f)\" % (f.mean(), f.std() * 2))\n",
    "print(\"train_time:%.3fs\\n\" %train1)\n",
    "print(\"test_time:%.3fs\\n\" %test1)"
   ]
  },
  {
   "cell_type": "code",
   "execution_count": 24,
   "metadata": {},
   "outputs": [
    {
     "name": "stdout",
     "output_type": "stream",
     "text": [
      "Area under the ROC curve: %f 0.9978306924751105\n",
      "Threshold: %f [2 1 0]\n",
      "FPR: %f [0.         0.00417457 1.        ]\n",
      "TPR: %f [0.         0.99983596 1.        ]\n"
     ]
    }
   ],
   "source": [
    "from sklearn.metrics import roc_curve, auc\n",
    "\n",
    "fpr, tpr, thresholds = roc_curve(Y_Anomaly_test, Y_Anomaly_pred)\n",
    "roc_auc = auc(fpr, tpr)\n",
    "print(\"Area under the ROC curve: %f\", roc_auc)\n",
    "print(\"Threshold: %f\", thresholds)\n",
    "print(\"FPR: %f\", fpr)\n",
    "print(\"TPR: %f\", tpr)"
   ]
  },
  {
   "cell_type": "code",
   "execution_count": 25,
   "metadata": {},
   "outputs": [
    {
     "data": {
      "image/png": "[encoded data removed]",
      "text/plain": [
       "<Figure size 432x288 with 1 Axes>"
      ]
     },
     "metadata": {
      "needs_background": "light"
     },
     "output_type": "display_data"
    }
   ],
   "source": [
    "import pylab as pl\n",
    "\n",
    "pl.clf()\n",
    "pl.plot(fpr, tpr, label='ROC curve (area =%0.2f)'% roc_auc)\n",
    "pl.plot([0,1],[0,1], 'k--')\n",
    "pl.xlim([0.0, 1.0])\n",
    "pl.ylim([0.0, 1.0])\n",
    "pl.xlabel('False Postive Rate')\n",
    "pl.ylabel('True Postive Rate')\n",
    "pl.title('Receiver operating characteristic')\n",
    "pl.legend(loc=\"lower right\")\n",
    "pl.savefig(\"ids_rbf_roc\")"
   ]
  },
  {
   "cell_type": "code",
   "execution_count": 26,
   "metadata": {},
   "outputs": [],
   "source": [
    "from sklearn.svm import SVC\n",
    "\n",
    "clf_SVM_Anomaly=SVC(kernel='poly', C=1.0, random_state=0)\n",
    "train0 = time.time()\n",
    "\n",
    "clf_SVM_Anomaly.fit(X_Anomaly, Y_Anomaly.astype(int))\n",
    "train1 = time.time() - train0"
   ]
  },
  {
   "cell_type": "code",
   "execution_count": 27,
   "metadata": {},
   "outputs": [
    {
     "data": {
      "text/html": [
       "<div>\n",
       "<style scoped>\n",
       "    .dataframe tbody tr th:only-of-type {\n",
       "        vertical-align: middle;\n",
       "    }\n",
       "\n",
       "    .dataframe tbody tr th {\n",
       "        vertical-align: top;\n",
       "    }\n",
       "\n",
       "    .dataframe thead th {\n",
       "        text-align: right;\n",
       "    }\n",
       "</style>\n",
       "<table border=\"1\" class=\"dataframe\">\n",
       "  <thead>\n",
       "    <tr style=\"text-align: right;\">\n",
       "      <th>Predicted attacks</th>\n",
       "      <th>0</th>\n",
       "      <th>1</th>\n",
       "    </tr>\n",
       "    <tr>\n",
       "      <th>Actual attacks</th>\n",
       "      <th></th>\n",
       "      <th></th>\n",
       "    </tr>\n",
       "  </thead>\n",
       "  <tbody>\n",
       "    <tr>\n",
       "      <th>0</th>\n",
       "      <td>15466</td>\n",
       "      <td>344</td>\n",
       "    </tr>\n",
       "    <tr>\n",
       "      <th>1</th>\n",
       "      <td>1</td>\n",
       "      <td>6095</td>\n",
       "    </tr>\n",
       "  </tbody>\n",
       "</table>\n",
       "</div>"
      ],
      "text/plain": [
       "Predicted attacks      0     1\n",
       "Actual attacks                \n",
       "0                  15466   344\n",
       "1                      1  6095"
      ]
     },
     "execution_count": 27,
     "metadata": {},
     "output_type": "execute_result"
    }
   ],
   "source": [
    "test0 = time.time()\n",
    "Y_Anomaly_pred=clf_SVM_Anomaly.predict(X_Anomaly_test)\n",
    "test1 = time.time() - test0\n",
    "\n",
    "# Create confusion matrix\n",
    "pd.crosstab(Y_Anomaly_test, Y_Anomaly_pred, rownames=['Actual attacks'], colnames=['Predicted attacks'])"
   ]
  },
  {
   "cell_type": "code",
   "execution_count": 28,
   "metadata": {},
   "outputs": [
    {
     "name": "stdout",
     "output_type": "stream",
     "text": [
      "Confusion_matrix\n",
      "[[15466   344]\n",
      " [    1  6095]]\n",
      "....\n",
      "FP [  1. 344.]\n",
      "FN [344.   1.]\n",
      "TP [15466.  6095.]\n",
      "TN [ 6095. 15466.]\n",
      "TPR [0.97824162 0.99983596]\n",
      "TNR [0.99983596 0.97824162]\n",
      "PPV [0.99993535 0.94657556]\n",
      "FPR [0.00016404 0.02175838]\n",
      "FNR [0.02175838 0.00016404]\n",
      "FDR [6.46537790e-05 5.34244448e-02]\n",
      "ACC [0.98425089 0.98425089]\n"
     ]
    }
   ],
   "source": [
    "from sklearn.metrics import confusion_matrix\n",
    "\n",
    "cnf_matrix = confusion_matrix(Y_Anomaly_test, Y_Anomaly_pred)\n",
    "\n",
    "print('Confusion_matrix')\n",
    "print(cnf_matrix)\n",
    "print('....')\n",
    "\n",
    "FP = cnf_matrix.sum(axis=0) - np.diag(cnf_matrix)\n",
    "FN = cnf_matrix.sum(axis=1) - np.diag(cnf_matrix)\n",
    "TP = np.diag(cnf_matrix)\n",
    "TN = cnf_matrix.sum() - (FP+FN+TP)\n",
    "\n",
    "FP = FP.astype(float)\n",
    "FN = FN.astype(float)\n",
    "TP = TP.astype(float)\n",
    "TN = TN.astype(float)\n",
    "# Sensitivity, hit rate, recall, or true positive rate\n",
    "TPR = TP/(TP+FN)\n",
    "# Specificity or true negative rate\n",
    "TNR = TN/(TN+FP) \n",
    "# Precision or positive predictive value\n",
    "PPV = TP/(TP+FP)\n",
    "# Negative predictive value\n",
    "NPV = TN/(TN+FN)\n",
    "# Fall out or false positive rate\n",
    "FPR = FP/(FP+TN)\n",
    "# False negative rate\n",
    "FNR = FN/(TP+FN)\n",
    "# False discovery rate\n",
    "FDR = FP/(TP+FP)\n",
    "# Overall accuracy for each class\n",
    "ACC = (TP+TN)/(TP+FP+FN+TN)\n",
    "\n",
    "print('FP', FP)\n",
    "print('FN', FN)\n",
    "print('TP', TP)\n",
    "print('TN', TN)\n",
    "print('TPR', TPR)\n",
    "print('TNR', TNR)\n",
    "print('PPV', PPV)\n",
    "print('FPR', FPR)\n",
    "print('FNR', FNR)\n",
    "print('FDR', FDR)\n",
    "print('ACC', ACC)"
   ]
  },
  {
   "cell_type": "code",
   "execution_count": 29,
   "metadata": {},
   "outputs": [
    {
     "name": "stdout",
     "output_type": "stream",
     "text": [
      "Accuracy: 0.95700 (+/- 0.00579)\n",
      "Precision: 0.86675 (+/- 0.01588)\n",
      "Recall: 0.99918 (+/- 0.00395)\n",
      "F-measure: 0.92824 (+/- 0.00902)\n",
      "train_time:536.019s\n",
      "\n",
      "test_time:24.225s\n",
      "\n"
     ]
    }
   ],
   "source": [
    "from sklearn.model_selection import cross_val_score\n",
    "from sklearn import metrics\n",
    "accuracy = cross_val_score(clf_SVM_Anomaly, X_Anomaly_test, Y_Anomaly_test, cv=10, scoring='accuracy')\n",
    "print(\"Accuracy: %0.5f (+/- %0.5f)\" % (accuracy.mean(), accuracy.std() * 2))\n",
    "precision = cross_val_score(clf_SVM_Anomaly, X_Anomaly_test, Y_Anomaly_test, cv=10, scoring='precision')\n",
    "print(\"Precision: %0.5f (+/- %0.5f)\" % (precision.mean(), precision.std() * 2))\n",
    "recall = cross_val_score(clf_SVM_Anomaly, X_Anomaly_test, Y_Anomaly_test, cv=10, scoring='recall')\n",
    "print(\"Recall: %0.5f (+/- %0.5f)\" % (recall.mean(), recall.std() * 2))\n",
    "f = cross_val_score(clf_SVM_Anomaly, X_Anomaly_test, Y_Anomaly_test, cv=10, scoring='f1')\n",
    "print(\"F-measure: %0.5f (+/- %0.5f)\" % (f.mean(), f.std() * 2))\n",
    "print(\"train_time:%.3fs\\n\" %train1)\n",
    "print(\"test_time:%.3fs\\n\" %test1)"
   ]
  },
  {
   "cell_type": "code",
   "execution_count": 30,
   "metadata": {},
   "outputs": [
    {
     "name": "stdout",
     "output_type": "stream",
     "text": [
      "Area under the ROC curve: %f 0.989038788616793\n",
      "Threshold: %f [2 1 0]\n",
      "FPR: %f [0.         0.02175838 1.        ]\n",
      "TPR: %f [0.         0.99983596 1.        ]\n"
     ]
    }
   ],
   "source": [
    "from sklearn.metrics import roc_curve, auc\n",
    "\n",
    "fpr, tpr, thresholds = roc_curve(Y_Anomaly_test, Y_Anomaly_pred)\n",
    "roc_auc = auc(fpr, tpr)\n",
    "print(\"Area under the ROC curve: %f\", roc_auc)\n",
    "print(\"Threshold: %f\", thresholds)\n",
    "print(\"FPR: %f\", fpr)\n",
    "print(\"TPR: %f\", tpr)"
   ]
  },
  {
   "cell_type": "code",
   "execution_count": 31,
   "metadata": {},
   "outputs": [
    {
     "data": {
      "image/png": "[encoded data removed]",
      "text/plain": [
       "<Figure size 432x288 with 1 Axes>"
      ]
     },
     "metadata": {
      "needs_background": "light"
     },
     "output_type": "display_data"
    }
   ],
   "source": [
    "import pylab as pl\n",
    "\n",
    "pl.clf()\n",
    "pl.plot(fpr, tpr, label='ROC curve (area =%0.2f)'% roc_auc)\n",
    "pl.plot([0,1],[0,1], 'k--')\n",
    "pl.xlim([0.0, 1.0])\n",
    "pl.ylim([0.0, 1.0])\n",
    "pl.xlabel('False Postive Rate')\n",
    "pl.ylabel('True Postive Rate')\n",
    "pl.title('Receiver operating characteristic')\n",
    "pl.legend(loc=\"lower right\")\n",
    "pl.savefig(\"ids_poly_roc\")"
   ]
  },
  {
   "cell_type": "code",
   "execution_count": 32,
   "metadata": {},
   "outputs": [],
   "source": [
    "from sklearn.svm import SVC\n",
    "\n",
    "clf_SVM_Anomaly=SVC(kernel='sigmoid', C=1.0, random_state=0)\n",
    "train0 = time.time()\n",
    "\n",
    "clf_SVM_Anomaly.fit(X_Anomaly, Y_Anomaly.astype(int))\n",
    "train1 = time.time() - train0"
   ]
  },
  {
   "cell_type": "code",
   "execution_count": 33,
   "metadata": {},
   "outputs": [
    {
     "data": {
      "text/html": [
       "<div>\n",
       "<style scoped>\n",
       "    .dataframe tbody tr th:only-of-type {\n",
       "        vertical-align: middle;\n",
       "    }\n",
       "\n",
       "    .dataframe tbody tr th {\n",
       "        vertical-align: top;\n",
       "    }\n",
       "\n",
       "    .dataframe thead th {\n",
       "        text-align: right;\n",
       "    }\n",
       "</style>\n",
       "<table border=\"1\" class=\"dataframe\">\n",
       "  <thead>\n",
       "    <tr style=\"text-align: right;\">\n",
       "      <th>Predicted attacks</th>\n",
       "      <th>0</th>\n",
       "      <th>1</th>\n",
       "    </tr>\n",
       "    <tr>\n",
       "      <th>Actual attacks</th>\n",
       "      <th></th>\n",
       "      <th></th>\n",
       "    </tr>\n",
       "  </thead>\n",
       "  <tbody>\n",
       "    <tr>\n",
       "      <th>0</th>\n",
       "      <td>14795</td>\n",
       "      <td>1015</td>\n",
       "    </tr>\n",
       "    <tr>\n",
       "      <th>1</th>\n",
       "      <td>15</td>\n",
       "      <td>6081</td>\n",
       "    </tr>\n",
       "  </tbody>\n",
       "</table>\n",
       "</div>"
      ],
      "text/plain": [
       "Predicted attacks      0     1\n",
       "Actual attacks                \n",
       "0                  14795  1015\n",
       "1                     15  6081"
      ]
     },
     "execution_count": 33,
     "metadata": {},
     "output_type": "execute_result"
    }
   ],
   "source": [
    "test0 = time.time()\n",
    "Y_Anomaly_pred=clf_SVM_Anomaly.predict(X_Anomaly_test)\n",
    "test1 = time.time() - test0\n",
    "\n",
    "# Create confusion matrix\n",
    "pd.crosstab(Y_Anomaly_test, Y_Anomaly_pred, rownames=['Actual attacks'], colnames=['Predicted attacks'])"
   ]
  },
  {
   "cell_type": "code",
   "execution_count": 34,
   "metadata": {},
   "outputs": [
    {
     "name": "stdout",
     "output_type": "stream",
     "text": [
      "Confusion_matrix\n",
      "[[14795  1015]\n",
      " [   15  6081]]\n",
      "....\n",
      "FP [  15. 1015.]\n",
      "FN [1015.   15.]\n",
      "TP [14795.  6081.]\n",
      "TN [ 6081. 14795.]\n",
      "TPR [0.93580013 0.99753937]\n",
      "TNR [0.99753937 0.93580013]\n",
      "PPV [0.99898717 0.85696167]\n",
      "FPR [0.00246063 0.06419987]\n",
      "FNR [0.06419987 0.00246063]\n",
      "FDR [0.00101283 0.14303833]\n",
      "ACC [0.95298092 0.95298092]\n"
     ]
    }
   ],
   "source": [
    "from sklearn.metrics import confusion_matrix\n",
    "\n",
    "cnf_matrix = confusion_matrix(Y_Anomaly_test, Y_Anomaly_pred)\n",
    "\n",
    "print('Confusion_matrix')\n",
    "print(cnf_matrix)\n",
    "print('....')\n",
    "\n",
    "FP = cnf_matrix.sum(axis=0) - np.diag(cnf_matrix)\n",
    "FN = cnf_matrix.sum(axis=1) - np.diag(cnf_matrix)\n",
    "TP = np.diag(cnf_matrix)\n",
    "TN = cnf_matrix.sum() - (FP+FN+TP)\n",
    "\n",
    "FP = FP.astype(float)\n",
    "FN = FN.astype(float)\n",
    "TP = TP.astype(float)\n",
    "TN = TN.astype(float)\n",
    "# Sensitivity, hit rate, recall, or true positive rate\n",
    "TPR = TP/(TP+FN)\n",
    "# Specificity or true negative rate\n",
    "TNR = TN/(TN+FP) \n",
    "# Precision or positive predictive value\n",
    "PPV = TP/(TP+FP)\n",
    "# Negative predictive value\n",
    "NPV = TN/(TN+FN)\n",
    "# Fall out or false positive rate\n",
    "FPR = FP/(FP+TN)\n",
    "# False negative rate\n",
    "FNR = FN/(TP+FN)\n",
    "# False discovery rate\n",
    "FDR = FP/(TP+FP)\n",
    "# Overall accuracy for each class\n",
    "ACC = (TP+TN)/(TP+FP+FN+TN)\n",
    "\n",
    "print('FP', FP)\n",
    "print('FN', FN)\n",
    "print('TP', TP)\n",
    "print('TN', TN)\n",
    "print('TPR', TPR)\n",
    "print('TNR', TNR)\n",
    "print('PPV', PPV)\n",
    "print('FPR', FPR)\n",
    "print('FNR', FNR)\n",
    "print('FDR', FDR)\n",
    "print('ACC', ACC)"
   ]
  },
  {
   "cell_type": "code",
   "execution_count": 35,
   "metadata": {},
   "outputs": [
    {
     "name": "stdout",
     "output_type": "stream",
     "text": [
      "Accuracy: 0.95371 (+/- 0.00533)\n",
      "Precision: 0.86770 (+/- 0.01532)\n",
      "Recall: 0.98376 (+/- 0.01266)\n",
      "F-measure: 0.92206 (+/- 0.00856)\n",
      "train_time:2597.556s\n",
      "\n",
      "test_time:34.389s\n",
      "\n"
     ]
    }
   ],
   "source": [
    "from sklearn.model_selection import cross_val_score\n",
    "from sklearn import metrics\n",
    "accuracy = cross_val_score(clf_SVM_Anomaly, X_Anomaly_test, Y_Anomaly_test, cv=10, scoring='accuracy')\n",
    "print(\"Accuracy: %0.5f (+/- %0.5f)\" % (accuracy.mean(), accuracy.std() * 2))\n",
    "precision = cross_val_score(clf_SVM_Anomaly, X_Anomaly_test, Y_Anomaly_test, cv=10, scoring='precision')\n",
    "print(\"Precision: %0.5f (+/- %0.5f)\" % (precision.mean(), precision.std() * 2))\n",
    "recall = cross_val_score(clf_SVM_Anomaly, X_Anomaly_test, Y_Anomaly_test, cv=10, scoring='recall')\n",
    "print(\"Recall: %0.5f (+/- %0.5f)\" % (recall.mean(), recall.std() * 2))\n",
    "f = cross_val_score(clf_SVM_Anomaly, X_Anomaly_test, Y_Anomaly_test, cv=10, scoring='f1')\n",
    "print(\"F-measure: %0.5f (+/- %0.5f)\" % (f.mean(), f.std() * 2))\n",
    "print(\"train_time:%.3fs\\n\" %train1)\n",
    "print(\"test_time:%.3fs\\n\" %test1)"
   ]
  },
  {
   "cell_type": "code",
   "execution_count": 36,
   "metadata": {},
   "outputs": [
    {
     "name": "stdout",
     "output_type": "stream",
     "text": [
      "Area under the ROC curve: %f 0.966669748290477\n",
      "Threshold: %f [2 1 0]\n",
      "FPR: %f [0.         0.06419987 1.        ]\n",
      "TPR: %f [0.         0.99753937 1.        ]\n"
     ]
    }
   ],
   "source": [
    "from sklearn.metrics import roc_curve, auc\n",
    "\n",
    "fpr, tpr, thresholds = roc_curve(Y_Anomaly_test, Y_Anomaly_pred)\n",
    "roc_auc = auc(fpr, tpr)\n",
    "print(\"Area under the ROC curve: %f\", roc_auc)\n",
    "print(\"Threshold: %f\", thresholds)\n",
    "print(\"FPR: %f\", fpr)\n",
    "print(\"TPR: %f\", tpr)"
   ]
  },
  {
   "cell_type": "code",
   "execution_count": 37,
   "metadata": {},
   "outputs": [
    {
     "data": {
      "image/png": "[encoded data removed]",
      "text/plain": [
       "<Figure size 432x288 with 1 Axes>"
      ]
     },
     "metadata": {
      "needs_background": "light"
     },
     "output_type": "display_data"
    }
   ],
   "source": [
    "import pylab as pl\n",
    "\n",
    "pl.clf()\n",
    "pl.plot(fpr, tpr, label='ROC curve (area =%0.2f)'% roc_auc)\n",
    "pl.plot([0,1],[0,1], 'k--')\n",
    "pl.xlim([0.0, 1.0])\n",
    "pl.ylim([0.0, 1.0])\n",
    "pl.xlabel('False Postive Rate')\n",
    "pl.ylabel('True Postive Rate')\n",
    "pl.title('Receiver operating characteristic')\n",
    "pl.legend(loc=\"lower right\")\n",
    "pl.savefig(\"ids_sigmoid_roc\")"
   ]
  },
  {
   "cell_type": "code",
   "execution_count": null,
   "metadata": {},
   "outputs": [],
   "source": []
  }
 ],
 "metadata": {
  "kernelspec": {
   "display_name": "Python 3",
   "language": "python",
   "name": "python3"
  },
  "language_info": {
   "codemirror_mode": {
    "name": "ipython",
    "version": 3
   },
   "file_extension": ".py",
   "mimetype": "text/x-python",
   "name": "python",
   "nbconvert_exporter": "python",
   "pygments_lexer": "ipython3",
   "version": "3.7.6"
  }
 },
 "nbformat": 4,
 "nbformat_minor": 2
}
