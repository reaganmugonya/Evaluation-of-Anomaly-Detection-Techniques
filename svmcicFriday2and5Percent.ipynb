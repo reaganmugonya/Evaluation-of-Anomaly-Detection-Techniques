{
 "cells": [
  {
   "cell_type": "code",
   "execution_count": 1,
   "metadata": {},
   "outputs": [],
   "source": [
    "import pandas as pd\n",
    "import numpy as np\n",
    "import sys\n",
    "import sklearn\n",
    "import io\n",
    "import random"
   ]
  },
  {
   "cell_type": "code",
   "execution_count": 2,
   "metadata": {},
   "outputs": [],
   "source": [
    "train_data = pd.read_csv('5Friday-02-03-2018_TrafficForML_CICFlowMeter_5Percent_training.csv')\n",
    "test_data = pd.read_csv('2Friday-02-03-2018_TrafficForML_CICFlowMeter_2Percent_test.csv')\n",
    "\n"
   ]
  },
  {
   "cell_type": "code",
   "execution_count": 3,
   "metadata": {},
   "outputs": [
    {
     "name": "stdout",
     "output_type": "stream",
     "text": [
      "Dimensions of the Training set: (52301, 83)\n",
      "Dimensions of the Testing set: (19875, 83)\n"
     ]
    }
   ],
   "source": [
    "print('Dimensions of the Training set:',train_data.shape)\n",
    "print('Dimensions of the Testing set:',test_data.shape)\n",
    "\n"
   ]
  },
  {
   "cell_type": "code",
   "execution_count": 4,
   "metadata": {},
   "outputs": [
    {
     "data": {
      "text/html": [
       "<div>\n",
       "<style scoped>\n",
       "    .dataframe tbody tr th:only-of-type {\n",
       "        vertical-align: middle;\n",
       "    }\n",
       "\n",
       "    .dataframe tbody tr th {\n",
       "        vertical-align: top;\n",
       "    }\n",
       "\n",
       "    .dataframe thead th {\n",
       "        text-align: right;\n",
       "    }\n",
       "</style>\n",
       "<table border=\"1\" class=\"dataframe\">\n",
       "  <thead>\n",
       "    <tr style=\"text-align: right;\">\n",
       "      <th></th>\n",
       "      <th>Unnamed: 0</th>\n",
       "      <th>Dst Port</th>\n",
       "      <th>Timestamp</th>\n",
       "      <th>Flow Duration</th>\n",
       "      <th>Tot Fwd Pkts</th>\n",
       "      <th>Tot Bwd Pkts</th>\n",
       "      <th>TotLen Fwd Pkts</th>\n",
       "      <th>TotLen Bwd Pkts</th>\n",
       "      <th>Fwd Pkt Len Max</th>\n",
       "      <th>Fwd Pkt Len Min</th>\n",
       "      <th>...</th>\n",
       "      <th>Active Max</th>\n",
       "      <th>Active Min</th>\n",
       "      <th>Idle Mean</th>\n",
       "      <th>Idle Std</th>\n",
       "      <th>Idle Max</th>\n",
       "      <th>Idle Min</th>\n",
       "      <th>Label</th>\n",
       "      <th>Protocol_0</th>\n",
       "      <th>Protocol_6</th>\n",
       "      <th>Protocol_17</th>\n",
       "    </tr>\n",
       "  </thead>\n",
       "  <tbody>\n",
       "    <tr>\n",
       "      <th>0</th>\n",
       "      <td>952709</td>\n",
       "      <td>443</td>\n",
       "      <td>02/03/2018 11:31:48</td>\n",
       "      <td>839</td>\n",
       "      <td>3</td>\n",
       "      <td>0</td>\n",
       "      <td>77</td>\n",
       "      <td>0.0</td>\n",
       "      <td>46</td>\n",
       "      <td>0</td>\n",
       "      <td>...</td>\n",
       "      <td>0.0</td>\n",
       "      <td>0.0</td>\n",
       "      <td>0.0</td>\n",
       "      <td>0.0</td>\n",
       "      <td>0.0</td>\n",
       "      <td>0.0</td>\n",
       "      <td>0</td>\n",
       "      <td>0</td>\n",
       "      <td>1</td>\n",
       "      <td>0</td>\n",
       "    </tr>\n",
       "    <tr>\n",
       "      <th>1</th>\n",
       "      <td>1002719</td>\n",
       "      <td>3389</td>\n",
       "      <td>02/03/2018 10:27:11</td>\n",
       "      <td>2980332</td>\n",
       "      <td>9</td>\n",
       "      <td>8</td>\n",
       "      <td>1825</td>\n",
       "      <td>1581.0</td>\n",
       "      <td>677</td>\n",
       "      <td>0</td>\n",
       "      <td>...</td>\n",
       "      <td>0.0</td>\n",
       "      <td>0.0</td>\n",
       "      <td>0.0</td>\n",
       "      <td>0.0</td>\n",
       "      <td>0.0</td>\n",
       "      <td>0.0</td>\n",
       "      <td>0</td>\n",
       "      <td>0</td>\n",
       "      <td>1</td>\n",
       "      <td>0</td>\n",
       "    </tr>\n",
       "    <tr>\n",
       "      <th>2</th>\n",
       "      <td>883296</td>\n",
       "      <td>61145</td>\n",
       "      <td>02/03/2018 09:59:25</td>\n",
       "      <td>166</td>\n",
       "      <td>2</td>\n",
       "      <td>0</td>\n",
       "      <td>0</td>\n",
       "      <td>0.0</td>\n",
       "      <td>0</td>\n",
       "      <td>0</td>\n",
       "      <td>...</td>\n",
       "      <td>0.0</td>\n",
       "      <td>0.0</td>\n",
       "      <td>0.0</td>\n",
       "      <td>0.0</td>\n",
       "      <td>0.0</td>\n",
       "      <td>0.0</td>\n",
       "      <td>0</td>\n",
       "      <td>0</td>\n",
       "      <td>1</td>\n",
       "      <td>0</td>\n",
       "    </tr>\n",
       "    <tr>\n",
       "      <th>3</th>\n",
       "      <td>1033681</td>\n",
       "      <td>3389</td>\n",
       "      <td>02/03/2018 01:00:58</td>\n",
       "      <td>2255075</td>\n",
       "      <td>12</td>\n",
       "      <td>7</td>\n",
       "      <td>1148</td>\n",
       "      <td>1581.0</td>\n",
       "      <td>677</td>\n",
       "      <td>0</td>\n",
       "      <td>...</td>\n",
       "      <td>0.0</td>\n",
       "      <td>0.0</td>\n",
       "      <td>0.0</td>\n",
       "      <td>0.0</td>\n",
       "      <td>0.0</td>\n",
       "      <td>0.0</td>\n",
       "      <td>0</td>\n",
       "      <td>0</td>\n",
       "      <td>1</td>\n",
       "      <td>0</td>\n",
       "    </tr>\n",
       "    <tr>\n",
       "      <th>4</th>\n",
       "      <td>763235</td>\n",
       "      <td>53</td>\n",
       "      <td>02/03/2018 02:15:44</td>\n",
       "      <td>274</td>\n",
       "      <td>1</td>\n",
       "      <td>1</td>\n",
       "      <td>32</td>\n",
       "      <td>48.0</td>\n",
       "      <td>32</td>\n",
       "      <td>32</td>\n",
       "      <td>...</td>\n",
       "      <td>0.0</td>\n",
       "      <td>0.0</td>\n",
       "      <td>0.0</td>\n",
       "      <td>0.0</td>\n",
       "      <td>0.0</td>\n",
       "      <td>0.0</td>\n",
       "      <td>0</td>\n",
       "      <td>0</td>\n",
       "      <td>0</td>\n",
       "      <td>1</td>\n",
       "    </tr>\n",
       "  </tbody>\n",
       "</table>\n",
       "<p>5 rows × 83 columns</p>\n",
       "</div>"
      ],
      "text/plain": [
       "   Unnamed: 0  Dst Port            Timestamp  Flow Duration  Tot Fwd Pkts  \\\n",
       "0      952709       443  02/03/2018 11:31:48            839             3   \n",
       "1     1002719      3389  02/03/2018 10:27:11        2980332             9   \n",
       "2      883296     61145  02/03/2018 09:59:25            166             2   \n",
       "3     1033681      3389  02/03/2018 01:00:58        2255075            12   \n",
       "4      763235        53  02/03/2018 02:15:44            274             1   \n",
       "\n",
       "   Tot Bwd Pkts  TotLen Fwd Pkts  TotLen Bwd Pkts  Fwd Pkt Len Max  \\\n",
       "0             0               77              0.0               46   \n",
       "1             8             1825           1581.0              677   \n",
       "2             0                0              0.0                0   \n",
       "3             7             1148           1581.0              677   \n",
       "4             1               32             48.0               32   \n",
       "\n",
       "   Fwd Pkt Len Min  ...  Active Max  Active Min  Idle Mean  Idle Std  \\\n",
       "0                0  ...         0.0         0.0        0.0       0.0   \n",
       "1                0  ...         0.0         0.0        0.0       0.0   \n",
       "2                0  ...         0.0         0.0        0.0       0.0   \n",
       "3                0  ...         0.0         0.0        0.0       0.0   \n",
       "4               32  ...         0.0         0.0        0.0       0.0   \n",
       "\n",
       "   Idle Max  Idle Min  Label  Protocol_0  Protocol_6  Protocol_17  \n",
       "0       0.0       0.0      0           0           1            0  \n",
       "1       0.0       0.0      0           0           1            0  \n",
       "2       0.0       0.0      0           0           1            0  \n",
       "3       0.0       0.0      0           0           1            0  \n",
       "4       0.0       0.0      0           0           0            1  \n",
       "\n",
       "[5 rows x 83 columns]"
      ]
     },
     "execution_count": 4,
     "metadata": {},
     "output_type": "execute_result"
    }
   ],
   "source": [
    "train_data.head(5)"
   ]
  },
  {
   "cell_type": "code",
   "execution_count": 5,
   "metadata": {},
   "outputs": [
    {
     "data": {
      "text/plain": [
       "0        437718\n",
       "1        761581\n",
       "2        622069\n",
       "3        465398\n",
       "4        764254\n",
       "          ...  \n",
       "19870    196074\n",
       "19871    319740\n",
       "19872    296147\n",
       "19873    204314\n",
       "19874      9643\n",
       "Name: Unnamed: 0, Length: 19875, dtype: int64"
      ]
     },
     "execution_count": 5,
     "metadata": {},
     "output_type": "execute_result"
    }
   ],
   "source": [
    "train_data.pop(\"Unnamed: 0\")\n",
    "test_data.pop(\"Unnamed: 0\")"
   ]
  },
  {
   "cell_type": "code",
   "execution_count": 6,
   "metadata": {},
   "outputs": [
    {
     "data": {
      "text/plain": [
       "0        02/03/2018 11:05:30\n",
       "1        02/03/2018 11:06:38\n",
       "2        02/03/2018 09:00:23\n",
       "3        02/03/2018 08:59:56\n",
       "4        02/03/2018 01:37:25\n",
       "                ...         \n",
       "19870    02/03/2018 11:20:20\n",
       "19871    02/03/2018 12:46:28\n",
       "19872    02/03/2018 03:46:50\n",
       "19873    02/03/2018 12:54:03\n",
       "19874    02/03/2018 11:26:35\n",
       "Name: Timestamp, Length: 19875, dtype: object"
      ]
     },
     "execution_count": 6,
     "metadata": {},
     "output_type": "execute_result"
    }
   ],
   "source": [
    "train_data.pop(\"Timestamp\")\n",
    "test_data.pop(\"Timestamp\")"
   ]
  },
  {
   "cell_type": "code",
   "execution_count": 7,
   "metadata": {},
   "outputs": [],
   "source": [
    "train_data = train_data[np.isfinite(train_data).all(1)]\n",
    "test_data = test_data[np.isfinite(test_data).all(1)]"
   ]
  },
  {
   "cell_type": "code",
   "execution_count": 8,
   "metadata": {},
   "outputs": [
    {
     "name": "stdout",
     "output_type": "stream",
     "text": [
      "Label distribution Training set:\n",
      "0    37919\n",
      "1    14310\n",
      "Name: Label, dtype: int64\n",
      "\n",
      "Label distribution Test set:\n",
      "0    14417\n",
      "1     5438\n",
      "Name: Label, dtype: int64\n"
     ]
    }
   ],
   "source": [
    "print('Label distribution Training set:')\n",
    "print(train_data['Label'].value_counts())\n",
    "print()\n",
    "print('Label distribution Test set:')\n",
    "print(test_data['Label'].value_counts())"
   ]
  },
  {
   "cell_type": "code",
   "execution_count": 9,
   "metadata": {},
   "outputs": [
    {
     "name": "stdout",
     "output_type": "stream",
     "text": [
      "Dimensions of the Training set: (52229, 81)\n",
      "Dimensions of the Testing set: (19855, 81)\n"
     ]
    }
   ],
   "source": [
    "print('Dimensions of the Training set:',train_data.shape)\n",
    "print('Dimensions of the Testing set:',test_data.shape)"
   ]
  },
  {
   "cell_type": "code",
   "execution_count": 10,
   "metadata": {},
   "outputs": [
    {
     "name": "stdout",
     "output_type": "stream",
     "text": [
      "Train:\n",
      "Dimensions of Benign: (37919, 81)\n",
      "Dimensions of Infilteration: (52229, 81)\n",
      "\n",
      "Test:\n",
      "Dimensions of Begin: (14417, 81)\n",
      "Dimensions of Infilteration: (19855, 81)\n"
     ]
    }
   ],
   "source": [
    "to_drop_Benign = [0,0]\n",
    "to_drop_Infilteration = [0,1]\n",
    "\n",
    "Benign_df=train_data[train_data['Label'].isin(to_drop_Benign)];\n",
    "Infilteration_df=train_data[train_data['Label'].isin(to_drop_Infilteration)];\n",
    "\n",
    "#test\n",
    "Benign_df_test=test_data[test_data['Label'].isin(to_drop_Benign)];\n",
    "Infilteration_df_test=test_data[test_data['Label'].isin(to_drop_Infilteration)];\n",
    "\n",
    "print('Train:')\n",
    "print('Dimensions of Benign:' ,Benign_df.shape)\n",
    "print('Dimensions of Infilteration:' ,Infilteration_df.shape)\n",
    "print()\n",
    "print('Test:')\n",
    "print('Dimensions of Begin:' ,Benign_df_test.shape)\n",
    "print('Dimensions of Infilteration:' ,Infilteration_df_test.shape)"
   ]
  },
  {
   "cell_type": "code",
   "execution_count": 11,
   "metadata": {},
   "outputs": [],
   "source": [
    "#Split dataframes into X & Y\n",
    "# X Properties, Y result variables\n",
    "\n",
    "X_Benign = Benign_df.drop('Label',1)\n",
    "Y_Benign = Benign_df.Label\n",
    "\n",
    "X_Infilteration = Infilteration_df.drop('Label',1)\n",
    "Y_Infilteration = Infilteration_df.Label\n",
    "\n",
    "\n",
    "#test\n",
    "X_Benign_test = Benign_df_test.drop('Label',1)\n",
    "Y_Benign_test = Benign_df_test.Label\n",
    "\n",
    "X_Infilteration_test = Infilteration_df_test.drop('Label',1)\n",
    "Y_Infilteration_test = Infilteration_df_test.Label\n"
   ]
  },
  {
   "cell_type": "code",
   "execution_count": 12,
   "metadata": {},
   "outputs": [],
   "source": [
    "from sklearn import preprocessing\n",
    "\n",
    "scaler2 = preprocessing.StandardScaler().fit(X_Infilteration)\n",
    "X_Infilteration=scaler2.transform(X_Infilteration)\n",
    "\n",
    "\n",
    "# test data\n",
    "\n",
    "scaler4 = preprocessing.StandardScaler().fit(X_Infilteration_test)\n",
    "X_Infilteration_test=scaler4.transform(X_Infilteration_test)"
   ]
  },
  {
   "cell_type": "markdown",
   "metadata": {},
   "source": [
    "# SVM"
   ]
  },
  {
   "cell_type": "code",
   "execution_count": 13,
   "metadata": {},
   "outputs": [],
   "source": [
    "import time"
   ]
  },
  {
   "cell_type": "code",
   "execution_count": 14,
   "metadata": {},
   "outputs": [],
   "source": [
    "from sklearn.svm import SVC\n",
    "\n",
    "#clf_SVM_Benign=SVC(kernel='linear', C=1.0, random_state=0)\n",
    "clf_SVM_Infilteration=SVC(kernel='linear', C=1.0, random_state=0)\n",
    "train0 = time.time()\n",
    "\n",
    "\n",
    "#clf_SVM_Benign.fit(X_Benign, Y_Benign.astype(int))\n",
    "clf_SVM_Infilteration.fit(X_Infilteration, Y_Infilteration.astype(int))\n",
    "train1 = time.time() - train0\n"
   ]
  },
  {
   "cell_type": "code",
   "execution_count": 15,
   "metadata": {},
   "outputs": [
    {
     "data": {
      "text/html": [
       "<div>\n",
       "<style scoped>\n",
       "    .dataframe tbody tr th:only-of-type {\n",
       "        vertical-align: middle;\n",
       "    }\n",
       "\n",
       "    .dataframe tbody tr th {\n",
       "        vertical-align: top;\n",
       "    }\n",
       "\n",
       "    .dataframe thead th {\n",
       "        text-align: right;\n",
       "    }\n",
       "</style>\n",
       "<table border=\"1\" class=\"dataframe\">\n",
       "  <thead>\n",
       "    <tr style=\"text-align: right;\">\n",
       "      <th>Predicted attacks</th>\n",
       "      <th>0</th>\n",
       "      <th>1</th>\n",
       "    </tr>\n",
       "    <tr>\n",
       "      <th>Actual attacks</th>\n",
       "      <th></th>\n",
       "      <th></th>\n",
       "    </tr>\n",
       "  </thead>\n",
       "  <tbody>\n",
       "    <tr>\n",
       "      <th>0</th>\n",
       "      <td>14306</td>\n",
       "      <td>111</td>\n",
       "    </tr>\n",
       "    <tr>\n",
       "      <th>1</th>\n",
       "      <td>7</td>\n",
       "      <td>5431</td>\n",
       "    </tr>\n",
       "  </tbody>\n",
       "</table>\n",
       "</div>"
      ],
      "text/plain": [
       "Predicted attacks      0     1\n",
       "Actual attacks                \n",
       "0                  14306   111\n",
       "1                      7  5431"
      ]
     },
     "execution_count": 15,
     "metadata": {},
     "output_type": "execute_result"
    }
   ],
   "source": [
    "test0 = time.time()\n",
    "Y_Infilteration_pred=clf_SVM_Infilteration.predict(X_Infilteration_test)\n",
    "test1 = time.time() - test0\n",
    "\n",
    "# Create confusion matrix\n",
    "pd.crosstab(Y_Infilteration_test, Y_Infilteration_pred, rownames=['Actual attacks'], colnames=['Predicted attacks'])"
   ]
  },
  {
   "cell_type": "code",
   "execution_count": 16,
   "metadata": {},
   "outputs": [
    {
     "name": "stdout",
     "output_type": "stream",
     "text": [
      "Accuracy: 0.98706 (+/- 0.00488)\n",
      "Precision: 0.95541 (+/- 0.01585)\n",
      "Recall: 0.99945 (+/- 0.00169)\n",
      "F-measure: 0.97692 (+/- 0.00852)\n",
      "train_time:27.736s\n",
      "\n",
      "test_time:3.430s\n",
      "\n"
     ]
    }
   ],
   "source": [
    "from sklearn.model_selection import cross_val_score\n",
    "from sklearn import metrics\n",
    "accuracy = cross_val_score(clf_SVM_Infilteration, X_Infilteration_test, Y_Infilteration_test, cv=10, scoring='accuracy')\n",
    "print(\"Accuracy: %0.5f (+/- %0.5f)\" % (accuracy.mean(), accuracy.std() * 2))\n",
    "precision = cross_val_score(clf_SVM_Infilteration, X_Infilteration_test, Y_Infilteration_test, cv=10, scoring='precision')\n",
    "print(\"Precision: %0.5f (+/- %0.5f)\" % (precision.mean(), precision.std() * 2))\n",
    "recall = cross_val_score(clf_SVM_Infilteration, X_Infilteration_test, Y_Infilteration_test, cv=10, scoring='recall')\n",
    "print(\"Recall: %0.5f (+/- %0.5f)\" % (recall.mean(), recall.std() * 2))\n",
    "f = cross_val_score(clf_SVM_Infilteration, X_Infilteration_test, Y_Infilteration_test, cv=10, scoring='f1')\n",
    "print(\"F-measure: %0.5f (+/- %0.5f)\" % (f.mean(), f.std() * 2))\n",
    "print(\"train_time:%.3fs\\n\" %train1)\n",
    "print(\"test_time:%.3fs\\n\" %test1)"
   ]
  },
  {
   "cell_type": "code",
   "execution_count": 17,
   "metadata": {},
   "outputs": [
    {
     "name": "stdout",
     "output_type": "stream",
     "text": [
      "Area under the ROC curve: %f 0.9955067590483764\n",
      "Threshold: %f [2 1 0]\n",
      "FPR: %f [0.         0.00769924 1.        ]\n",
      "TPR: %f [0.         0.99871276 1.        ]\n"
     ]
    }
   ],
   "source": [
    "from sklearn.metrics import roc_curve, auc\n",
    "\n",
    "fpr, tpr, thresholds = roc_curve(Y_Infilteration_test, Y_Infilteration_pred)\n",
    "roc_auc = auc(fpr, tpr)\n",
    "print(\"Area under the ROC curve: %f\", roc_auc)\n",
    "print(\"Threshold: %f\", thresholds)\n",
    "print(\"FPR: %f\", fpr)\n",
    "print(\"TPR: %f\", tpr)"
   ]
  },
  {
   "cell_type": "code",
   "execution_count": 18,
   "metadata": {},
   "outputs": [
    {
     "data": {
      "image/png": "[encoded data removed]",
      "text/plain": [
       "<Figure size 432x288 with 1 Axes>"
      ]
     },
     "metadata": {
      "needs_background": "light"
     },
     "output_type": "display_data"
    }
   ],
   "source": [
    "import pylab as pl\n",
    "\n",
    "pl.clf()\n",
    "pl.plot(fpr, tpr, label='ROC curve (area =%0.2f)'% roc_auc)\n",
    "pl.plot([0,1],[0,1], 'k--')\n",
    "pl.xlim([0.0, 1.0])\n",
    "pl.ylim([0.0, 1.0])\n",
    "pl.xlabel('False Postive Rate')\n",
    "pl.ylabel('True Postive Rate')\n",
    "pl.title('Receiver operating characteristic')\n",
    "pl.legend(loc=\"lower right\")\n",
    "pl.show()"
   ]
  },
  {
   "cell_type": "code",
   "execution_count": 19,
   "metadata": {},
   "outputs": [],
   "source": [
    "from sklearn.svm import SVC\n",
    "\n",
    "clf_SVM_Infilteration=SVC(kernel='rbf', C=1.0, random_state=0)\n",
    "train0 = time.time()\n",
    "\n",
    "clf_SVM_Infilteration.fit(X_Infilteration, Y_Infilteration.astype(int))\n",
    "train1 = time.time() - train0"
   ]
  },
  {
   "cell_type": "code",
   "execution_count": 20,
   "metadata": {},
   "outputs": [
    {
     "data": {
      "text/html": [
       "<div>\n",
       "<style scoped>\n",
       "    .dataframe tbody tr th:only-of-type {\n",
       "        vertical-align: middle;\n",
       "    }\n",
       "\n",
       "    .dataframe tbody tr th {\n",
       "        vertical-align: top;\n",
       "    }\n",
       "\n",
       "    .dataframe thead th {\n",
       "        text-align: right;\n",
       "    }\n",
       "</style>\n",
       "<table border=\"1\" class=\"dataframe\">\n",
       "  <thead>\n",
       "    <tr style=\"text-align: right;\">\n",
       "      <th>Predicted attacks</th>\n",
       "      <th>0</th>\n",
       "      <th>1</th>\n",
       "    </tr>\n",
       "    <tr>\n",
       "      <th>Actual attacks</th>\n",
       "      <th></th>\n",
       "      <th></th>\n",
       "    </tr>\n",
       "  </thead>\n",
       "  <tbody>\n",
       "    <tr>\n",
       "      <th>0</th>\n",
       "      <td>14381</td>\n",
       "      <td>36</td>\n",
       "    </tr>\n",
       "    <tr>\n",
       "      <th>1</th>\n",
       "      <td>11</td>\n",
       "      <td>5427</td>\n",
       "    </tr>\n",
       "  </tbody>\n",
       "</table>\n",
       "</div>"
      ],
      "text/plain": [
       "Predicted attacks      0     1\n",
       "Actual attacks                \n",
       "0                  14381    36\n",
       "1                     11  5427"
      ]
     },
     "execution_count": 20,
     "metadata": {},
     "output_type": "execute_result"
    }
   ],
   "source": [
    "test0 = time.time()\n",
    "Y_Infilteration_pred=clf_SVM_Infilteration.predict(X_Infilteration_test)\n",
    "test1 = time.time() - test0\n",
    "\n",
    "# Create confusion matrix\n",
    "pd.crosstab(Y_Infilteration_test, Y_Infilteration_pred, rownames=['Actual attacks'], colnames=['Predicted attacks'])"
   ]
  },
  {
   "cell_type": "code",
   "execution_count": 21,
   "metadata": {},
   "outputs": [
    {
     "name": "stdout",
     "output_type": "stream",
     "text": [
      "Accuracy: 0.97844 (+/- 0.01330)\n",
      "Precision: 0.92953 (+/- 0.04131)\n",
      "Recall: 0.99743 (+/- 0.00410)\n",
      "F-measure: 0.96217 (+/- 0.02264)\n",
      "train_time:24.671s\n",
      "\n",
      "test_time:8.352s\n",
      "\n"
     ]
    }
   ],
   "source": [
    "from sklearn.model_selection import cross_val_score\n",
    "from sklearn import metrics\n",
    "accuracy = cross_val_score(clf_SVM_Infilteration, X_Infilteration_test, Y_Infilteration_test, cv=10, scoring='accuracy')\n",
    "print(\"Accuracy: %0.5f (+/- %0.5f)\" % (accuracy.mean(), accuracy.std() * 2))\n",
    "precision = cross_val_score(clf_SVM_Infilteration, X_Infilteration_test, Y_Infilteration_test, cv=10, scoring='precision')\n",
    "print(\"Precision: %0.5f (+/- %0.5f)\" % (precision.mean(), precision.std() * 2))\n",
    "recall = cross_val_score(clf_SVM_Infilteration, X_Infilteration_test, Y_Infilteration_test, cv=10, scoring='recall')\n",
    "print(\"Recall: %0.5f (+/- %0.5f)\" % (recall.mean(), recall.std() * 2))\n",
    "f = cross_val_score(clf_SVM_Infilteration, X_Infilteration_test, Y_Infilteration_test, cv=10, scoring='f1')\n",
    "print(\"F-measure: %0.5f (+/- %0.5f)\" % (f.mean(), f.std() * 2))\n",
    "print(\"train_time:%.3fs\\n\" %train1)\n",
    "print(\"test_time:%.3fs\\n\" %test1)"
   ]
  },
  {
   "cell_type": "code",
   "execution_count": 22,
   "metadata": {},
   "outputs": [
    {
     "name": "stdout",
     "output_type": "stream",
     "text": [
      "Area under the ROC curve: %f 0.9977400727038997\n",
      "Threshold: %f [2 1 0]\n",
      "FPR: %f [0.         0.00249705 1.        ]\n",
      "TPR: %f [0.        0.9979772 1.       ]\n"
     ]
    }
   ],
   "source": [
    "from sklearn.metrics import roc_curve, auc\n",
    "\n",
    "fpr, tpr, thresholds = roc_curve(Y_Infilteration_test, Y_Infilteration_pred)\n",
    "roc_auc = auc(fpr, tpr)\n",
    "print(\"Area under the ROC curve: %f\", roc_auc)\n",
    "print(\"Threshold: %f\", thresholds)\n",
    "print(\"FPR: %f\", fpr)\n",
    "print(\"TPR: %f\", tpr)"
   ]
  },
  {
   "cell_type": "code",
   "execution_count": 23,
   "metadata": {},
   "outputs": [
    {
     "data": {
      "image/png": "[encoded data removed]",
      "text/plain": [
       "<Figure size 432x288 with 1 Axes>"
      ]
     },
     "metadata": {
      "needs_background": "light"
     },
     "output_type": "display_data"
    }
   ],
   "source": [
    "import pylab as pl\n",
    "\n",
    "pl.clf()\n",
    "pl.plot(fpr, tpr, label='ROC curve (area =%0.2f)'% roc_auc)\n",
    "pl.plot([0,1],[0,1], 'k--')\n",
    "pl.xlim([0.0, 1.0])\n",
    "pl.ylim([0.0, 1.0])\n",
    "pl.xlabel('False Postive Rate')\n",
    "pl.ylabel('True Postive Rate')\n",
    "pl.title('Receiver operating characteristic')\n",
    "pl.legend(loc=\"lower right\")\n",
    "pl.show()"
   ]
  },
  {
   "cell_type": "code",
   "execution_count": 24,
   "metadata": {},
   "outputs": [],
   "source": [
    "from sklearn.svm import SVC\n",
    "\n",
    "clf_SVM_Infilteration=SVC(kernel='poly', C=1.0, random_state=0)\n",
    "train0 = time.time()\n",
    "\n",
    "clf_SVM_Infilteration.fit(X_Infilteration, Y_Infilteration.astype(int))\n",
    "train1 = time.time() - train0"
   ]
  },
  {
   "cell_type": "code",
   "execution_count": 25,
   "metadata": {},
   "outputs": [
    {
     "data": {
      "text/html": [
       "<div>\n",
       "<style scoped>\n",
       "    .dataframe tbody tr th:only-of-type {\n",
       "        vertical-align: middle;\n",
       "    }\n",
       "\n",
       "    .dataframe tbody tr th {\n",
       "        vertical-align: top;\n",
       "    }\n",
       "\n",
       "    .dataframe thead th {\n",
       "        text-align: right;\n",
       "    }\n",
       "</style>\n",
       "<table border=\"1\" class=\"dataframe\">\n",
       "  <thead>\n",
       "    <tr style=\"text-align: right;\">\n",
       "      <th>Predicted attacks</th>\n",
       "      <th>0</th>\n",
       "      <th>1</th>\n",
       "    </tr>\n",
       "    <tr>\n",
       "      <th>Actual attacks</th>\n",
       "      <th></th>\n",
       "      <th></th>\n",
       "    </tr>\n",
       "  </thead>\n",
       "  <tbody>\n",
       "    <tr>\n",
       "      <th>0</th>\n",
       "      <td>13627</td>\n",
       "      <td>790</td>\n",
       "    </tr>\n",
       "    <tr>\n",
       "      <th>1</th>\n",
       "      <td>2</td>\n",
       "      <td>5436</td>\n",
       "    </tr>\n",
       "  </tbody>\n",
       "</table>\n",
       "</div>"
      ],
      "text/plain": [
       "Predicted attacks      0     1\n",
       "Actual attacks                \n",
       "0                  13627   790\n",
       "1                      2  5436"
      ]
     },
     "execution_count": 25,
     "metadata": {},
     "output_type": "execute_result"
    }
   ],
   "source": [
    "test0 = time.time()\n",
    "Y_Infilteration_pred=clf_SVM_Infilteration.predict(X_Infilteration_test)\n",
    "test1 = time.time() - test0\n",
    "\n",
    "# Create confusion matrix\n",
    "pd.crosstab(Y_Infilteration_test, Y_Infilteration_pred, rownames=['Actual attacks'], colnames=['Predicted attacks'])"
   ]
  },
  {
   "cell_type": "code",
   "execution_count": 26,
   "metadata": {},
   "outputs": [
    {
     "name": "stdout",
     "output_type": "stream",
     "text": [
      "Accuracy: 0.96026 (+/- 0.01012)\n",
      "Precision: 0.87364 (+/- 0.02837)\n",
      "Recall: 0.99982 (+/- 0.00110)\n",
      "F-measure: 0.93242 (+/- 0.01607)\n",
      "train_time:33.711s\n",
      "\n",
      "test_time:11.061s\n",
      "\n"
     ]
    }
   ],
   "source": [
    "from sklearn.model_selection import cross_val_score\n",
    "from sklearn import metrics\n",
    "accuracy = cross_val_score(clf_SVM_Infilteration, X_Infilteration_test, Y_Infilteration_test, cv=10, scoring='accuracy')\n",
    "print(\"Accuracy: %0.5f (+/- %0.5f)\" % (accuracy.mean(), accuracy.std() * 2))\n",
    "precision = cross_val_score(clf_SVM_Infilteration, X_Infilteration_test, Y_Infilteration_test, cv=10, scoring='precision')\n",
    "print(\"Precision: %0.5f (+/- %0.5f)\" % (precision.mean(), precision.std() * 2))\n",
    "recall = cross_val_score(clf_SVM_Infilteration, X_Infilteration_test, Y_Infilteration_test, cv=10, scoring='recall')\n",
    "print(\"Recall: %0.5f (+/- %0.5f)\" % (recall.mean(), recall.std() * 2))\n",
    "f = cross_val_score(clf_SVM_Infilteration, X_Infilteration_test, Y_Infilteration_test, cv=10, scoring='f1')\n",
    "print(\"F-measure: %0.5f (+/- %0.5f)\" % (f.mean(), f.std() * 2))\n",
    "print(\"train_time:%.3fs\\n\" %train1)\n",
    "print(\"test_time:%.3fs\\n\" %test1)"
   ]
  },
  {
   "cell_type": "code",
   "execution_count": 27,
   "metadata": {},
   "outputs": [
    {
     "name": "stdout",
     "output_type": "stream",
     "text": [
      "Area under the ROC curve: %f 0.9724178984175514\n",
      "Threshold: %f [2 1 0]\n",
      "FPR: %f [0.         0.05479642 1.        ]\n",
      "TPR: %f [0.         0.99963222 1.        ]\n"
     ]
    }
   ],
   "source": [
    "from sklearn.metrics import roc_curve, auc\n",
    "\n",
    "fpr, tpr, thresholds = roc_curve(Y_Infilteration_test, Y_Infilteration_pred)\n",
    "roc_auc = auc(fpr, tpr)\n",
    "print(\"Area under the ROC curve: %f\", roc_auc)\n",
    "print(\"Threshold: %f\", thresholds)\n",
    "print(\"FPR: %f\", fpr)\n",
    "print(\"TPR: %f\", tpr)"
   ]
  },
  {
   "cell_type": "code",
   "execution_count": 28,
   "metadata": {},
   "outputs": [
    {
     "data": {
      "image/png": "[encoded data removed]",
      "text/plain": [
       "<Figure size 432x288 with 1 Axes>"
      ]
     },
     "metadata": {
      "needs_background": "light"
     },
     "output_type": "display_data"
    }
   ],
   "source": [
    "import pylab as pl\n",
    "\n",
    "pl.clf()\n",
    "pl.plot(fpr, tpr, label='ROC curve (area =%0.2f)'% roc_auc)\n",
    "pl.plot([0,1],[0,1], 'k--')\n",
    "pl.xlim([0.0, 1.0])\n",
    "pl.ylim([0.0, 1.0])\n",
    "pl.xlabel('False Postive Rate')\n",
    "pl.ylabel('True Postive Rate')\n",
    "pl.title('Receiver operating characteristic')\n",
    "pl.legend(loc=\"lower right\")\n",
    "pl.show()"
   ]
  },
  {
   "cell_type": "code",
   "execution_count": 29,
   "metadata": {},
   "outputs": [],
   "source": [
    "from sklearn.svm import SVC\n",
    "\n",
    "clf_SVM_Infilteration=SVC(kernel='sigmoid', C=1.0, random_state=0)\n",
    "train0 = time.time()\n",
    "\n",
    "clf_SVM_Infilteration.fit(X_Infilteration, Y_Infilteration.astype(int))\n",
    "train1 = time.time() - train0"
   ]
  },
  {
   "cell_type": "code",
   "execution_count": 30,
   "metadata": {},
   "outputs": [
    {
     "data": {
      "text/html": [
       "<div>\n",
       "<style scoped>\n",
       "    .dataframe tbody tr th:only-of-type {\n",
       "        vertical-align: middle;\n",
       "    }\n",
       "\n",
       "    .dataframe tbody tr th {\n",
       "        vertical-align: top;\n",
       "    }\n",
       "\n",
       "    .dataframe thead th {\n",
       "        text-align: right;\n",
       "    }\n",
       "</style>\n",
       "<table border=\"1\" class=\"dataframe\">\n",
       "  <thead>\n",
       "    <tr style=\"text-align: right;\">\n",
       "      <th>Predicted attacks</th>\n",
       "      <th>0</th>\n",
       "      <th>1</th>\n",
       "    </tr>\n",
       "    <tr>\n",
       "      <th>Actual attacks</th>\n",
       "      <th></th>\n",
       "      <th></th>\n",
       "    </tr>\n",
       "  </thead>\n",
       "  <tbody>\n",
       "    <tr>\n",
       "      <th>0</th>\n",
       "      <td>13662</td>\n",
       "      <td>755</td>\n",
       "    </tr>\n",
       "    <tr>\n",
       "      <th>1</th>\n",
       "      <td>17</td>\n",
       "      <td>5421</td>\n",
       "    </tr>\n",
       "  </tbody>\n",
       "</table>\n",
       "</div>"
      ],
      "text/plain": [
       "Predicted attacks      0     1\n",
       "Actual attacks                \n",
       "0                  13662   755\n",
       "1                     17  5421"
      ]
     },
     "execution_count": 30,
     "metadata": {},
     "output_type": "execute_result"
    }
   ],
   "source": [
    "test0 = time.time()\n",
    "Y_Infilteration_pred=clf_SVM_Infilteration.predict(X_Infilteration_test)\n",
    "test1 = time.time() - test0\n",
    "\n",
    "# Create confusion matrix\n",
    "pd.crosstab(Y_Infilteration_test, Y_Infilteration_pred, rownames=['Actual attacks'], colnames=['Predicted attacks'])"
   ]
  },
  {
   "cell_type": "code",
   "execution_count": 31,
   "metadata": {},
   "outputs": [
    {
     "name": "stdout",
     "output_type": "stream",
     "text": [
      "Accuracy: 0.95598 (+/- 0.01378)\n",
      "Precision: 0.86970 (+/- 0.03112)\n",
      "Recall: 0.98749 (+/- 0.02212)\n",
      "F-measure: 0.92479 (+/- 0.02297)\n",
      "train_time:68.022s\n",
      "\n",
      "test_time:13.509s\n",
      "\n"
     ]
    }
   ],
   "source": [
    "from sklearn.model_selection import cross_val_score\n",
    "from sklearn import metrics\n",
    "accuracy = cross_val_score(clf_SVM_Infilteration, X_Infilteration_test, Y_Infilteration_test, cv=10, scoring='accuracy')\n",
    "print(\"Accuracy: %0.5f (+/- %0.5f)\" % (accuracy.mean(), accuracy.std() * 2))\n",
    "precision = cross_val_score(clf_SVM_Infilteration, X_Infilteration_test, Y_Infilteration_test, cv=10, scoring='precision')\n",
    "print(\"Precision: %0.5f (+/- %0.5f)\" % (precision.mean(), precision.std() * 2))\n",
    "recall = cross_val_score(clf_SVM_Infilteration, X_Infilteration_test, Y_Infilteration_test, cv=10, scoring='recall')\n",
    "print(\"Recall: %0.5f (+/- %0.5f)\" % (recall.mean(), recall.std() * 2))\n",
    "f = cross_val_score(clf_SVM_Infilteration, X_Infilteration_test, Y_Infilteration_test, cv=10, scoring='f1')\n",
    "print(\"F-measure: %0.5f (+/- %0.5f)\" % (f.mean(), f.std() * 2))\n",
    "print(\"train_time:%.3fs\\n\" %train1)\n",
    "print(\"test_time:%.3fs\\n\" %test1)"
   ]
  },
  {
   "cell_type": "code",
   "execution_count": 32,
   "metadata": {},
   "outputs": [
    {
     "name": "stdout",
     "output_type": "stream",
     "text": [
      "Area under the ROC curve: %f 0.9722525596607924\n",
      "Threshold: %f [2 1 0]\n",
      "FPR: %f [0.         0.05236873 1.        ]\n",
      "TPR: %f [0.         0.99687385 1.        ]\n"
     ]
    }
   ],
   "source": [
    "from sklearn.metrics import roc_curve, auc\n",
    "\n",
    "fpr, tpr, thresholds = roc_curve(Y_Infilteration_test, Y_Infilteration_pred)\n",
    "roc_auc = auc(fpr, tpr)\n",
    "print(\"Area under the ROC curve: %f\", roc_auc)\n",
    "print(\"Threshold: %f\", thresholds)\n",
    "print(\"FPR: %f\", fpr)\n",
    "print(\"TPR: %f\", tpr)"
   ]
  },
  {
   "cell_type": "code",
   "execution_count": 33,
   "metadata": {},
   "outputs": [
    {
     "data": {
      "image/png": "[encoded data removed]",
      "text/plain": [
       "<Figure size 432x288 with 1 Axes>"
      ]
     },
     "metadata": {
      "needs_background": "light"
     },
     "output_type": "display_data"
    }
   ],
   "source": [
    "import pylab as pl\n",
    "\n",
    "pl.clf()\n",
    "pl.plot(fpr, tpr, label='ROC curve (area =%0.2f)'% roc_auc)\n",
    "pl.plot([0,1],[0,1], 'k--')\n",
    "pl.xlim([0.0, 1.0])\n",
    "pl.ylim([0.0, 1.0])\n",
    "pl.xlabel('False Postive Rate')\n",
    "pl.ylabel('True Postive Rate')\n",
    "pl.title('Receiver operating characteristic')\n",
    "pl.legend(loc=\"lower right\")\n",
    "pl.show()"
   ]
  },
  {
   "cell_type": "code",
   "execution_count": null,
   "metadata": {},
   "outputs": [],
   "source": []
  }
 ],
 "metadata": {
  "kernelspec": {
   "display_name": "Python 3",
   "language": "python",
   "name": "python3"
  },
  "language_info": {
   "codemirror_mode": {
    "name": "ipython",
    "version": 3
   },
   "file_extension": ".py",
   "mimetype": "text/x-python",
   "name": "python",
   "nbconvert_exporter": "python",
   "pygments_lexer": "ipython3",
   "version": "3.7.3"
  }
 },
 "nbformat": 4,
 "nbformat_minor": 2
}
