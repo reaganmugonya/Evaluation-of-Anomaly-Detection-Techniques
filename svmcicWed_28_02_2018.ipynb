{
 "cells": [
  {
   "cell_type": "code",
   "execution_count": 1,
   "metadata": {},
   "outputs": [],
   "source": [
    "import pandas as pd\n",
    "import numpy as np\n",
    "import sys\n",
    "import sklearn\n",
    "import io\n",
    "import random"
   ]
  },
  {
   "cell_type": "code",
   "execution_count": 2,
   "metadata": {},
   "outputs": [],
   "source": [
    "train_data = pd.read_csv('preprocessed_train_40.csv')\n",
    "test_data = pd.read_csv('preprocessed_test_40.csv')\n",
    "\n"
   ]
  },
  {
   "cell_type": "code",
   "execution_count": 3,
   "metadata": {},
   "outputs": [
    {
     "name": "stdout",
     "output_type": "stream",
     "text": [
      "Dimensions of the Training set: (12000, 83)\n",
      "Dimensions of the Testing set: (3999, 83)\n"
     ]
    }
   ],
   "source": [
    "print('Dimensions of the Training set:',train_data.shape)\n",
    "print('Dimensions of the Testing set:',test_data.shape)\n",
    "\n"
   ]
  },
  {
   "cell_type": "code",
   "execution_count": 4,
   "metadata": {},
   "outputs": [
    {
     "data": {
      "text/html": [
       "<div>\n",
       "<style scoped>\n",
       "    .dataframe tbody tr th:only-of-type {\n",
       "        vertical-align: middle;\n",
       "    }\n",
       "\n",
       "    .dataframe tbody tr th {\n",
       "        vertical-align: top;\n",
       "    }\n",
       "\n",
       "    .dataframe thead th {\n",
       "        text-align: right;\n",
       "    }\n",
       "</style>\n",
       "<table border=\"1\" class=\"dataframe\">\n",
       "  <thead>\n",
       "    <tr style=\"text-align: right;\">\n",
       "      <th></th>\n",
       "      <th>Unnamed: 0</th>\n",
       "      <th>Dst Port</th>\n",
       "      <th>Timestamp</th>\n",
       "      <th>Flow Duration</th>\n",
       "      <th>Tot Fwd Pkts</th>\n",
       "      <th>Tot Bwd Pkts</th>\n",
       "      <th>TotLen Fwd Pkts</th>\n",
       "      <th>TotLen Bwd Pkts</th>\n",
       "      <th>Fwd Pkt Len Max</th>\n",
       "      <th>Fwd Pkt Len Min</th>\n",
       "      <th>...</th>\n",
       "      <th>Active Max</th>\n",
       "      <th>Active Min</th>\n",
       "      <th>Idle Mean</th>\n",
       "      <th>Idle Std</th>\n",
       "      <th>Idle Max</th>\n",
       "      <th>Idle Min</th>\n",
       "      <th>Label</th>\n",
       "      <th>Protocol_0</th>\n",
       "      <th>Protocol_6</th>\n",
       "      <th>Protocol_17</th>\n",
       "    </tr>\n",
       "  </thead>\n",
       "  <tbody>\n",
       "    <tr>\n",
       "      <th>0</th>\n",
       "      <td>1751</td>\n",
       "      <td>445</td>\n",
       "      <td>02/03/2018 11:56:54</td>\n",
       "      <td>932785</td>\n",
       "      <td>5</td>\n",
       "      <td>3</td>\n",
       "      <td>277</td>\n",
       "      <td>172</td>\n",
       "      <td>140</td>\n",
       "      <td>0</td>\n",
       "      <td>...</td>\n",
       "      <td>0.0</td>\n",
       "      <td>0.0</td>\n",
       "      <td>0.0</td>\n",
       "      <td>0.0</td>\n",
       "      <td>0.0</td>\n",
       "      <td>0.0</td>\n",
       "      <td>0</td>\n",
       "      <td>0</td>\n",
       "      <td>1</td>\n",
       "      <td>0</td>\n",
       "    </tr>\n",
       "    <tr>\n",
       "      <th>1</th>\n",
       "      <td>4342</td>\n",
       "      <td>3389</td>\n",
       "      <td>02/03/2018 12:36:44</td>\n",
       "      <td>119119923</td>\n",
       "      <td>108</td>\n",
       "      <td>106</td>\n",
       "      <td>51</td>\n",
       "      <td>5406</td>\n",
       "      <td>51</td>\n",
       "      <td>0</td>\n",
       "      <td>...</td>\n",
       "      <td>0.0</td>\n",
       "      <td>0.0</td>\n",
       "      <td>0.0</td>\n",
       "      <td>0.0</td>\n",
       "      <td>0.0</td>\n",
       "      <td>0.0</td>\n",
       "      <td>0</td>\n",
       "      <td>0</td>\n",
       "      <td>1</td>\n",
       "      <td>0</td>\n",
       "    </tr>\n",
       "    <tr>\n",
       "      <th>2</th>\n",
       "      <td>10541</td>\n",
       "      <td>0</td>\n",
       "      <td>02/03/2018 01:47:10</td>\n",
       "      <td>480525</td>\n",
       "      <td>5</td>\n",
       "      <td>0</td>\n",
       "      <td>0</td>\n",
       "      <td>0</td>\n",
       "      <td>0</td>\n",
       "      <td>0</td>\n",
       "      <td>...</td>\n",
       "      <td>0.0</td>\n",
       "      <td>0.0</td>\n",
       "      <td>0.0</td>\n",
       "      <td>0.0</td>\n",
       "      <td>0.0</td>\n",
       "      <td>0.0</td>\n",
       "      <td>0</td>\n",
       "      <td>1</td>\n",
       "      <td>0</td>\n",
       "      <td>0</td>\n",
       "    </tr>\n",
       "    <tr>\n",
       "      <th>3</th>\n",
       "      <td>2698</td>\n",
       "      <td>445</td>\n",
       "      <td>02/03/2018 12:11:57</td>\n",
       "      <td>350527</td>\n",
       "      <td>3</td>\n",
       "      <td>1</td>\n",
       "      <td>0</td>\n",
       "      <td>0</td>\n",
       "      <td>0</td>\n",
       "      <td>0</td>\n",
       "      <td>...</td>\n",
       "      <td>0.0</td>\n",
       "      <td>0.0</td>\n",
       "      <td>0.0</td>\n",
       "      <td>0.0</td>\n",
       "      <td>0.0</td>\n",
       "      <td>0.0</td>\n",
       "      <td>0</td>\n",
       "      <td>0</td>\n",
       "      <td>1</td>\n",
       "      <td>0</td>\n",
       "    </tr>\n",
       "    <tr>\n",
       "      <th>4</th>\n",
       "      <td>1757</td>\n",
       "      <td>3389</td>\n",
       "      <td>02/03/2018 11:54:58</td>\n",
       "      <td>119814826</td>\n",
       "      <td>113</td>\n",
       "      <td>111</td>\n",
       "      <td>51</td>\n",
       "      <td>5661</td>\n",
       "      <td>51</td>\n",
       "      <td>0</td>\n",
       "      <td>...</td>\n",
       "      <td>0.0</td>\n",
       "      <td>0.0</td>\n",
       "      <td>0.0</td>\n",
       "      <td>0.0</td>\n",
       "      <td>0.0</td>\n",
       "      <td>0.0</td>\n",
       "      <td>0</td>\n",
       "      <td>0</td>\n",
       "      <td>1</td>\n",
       "      <td>0</td>\n",
       "    </tr>\n",
       "  </tbody>\n",
       "</table>\n",
       "<p>5 rows × 83 columns</p>\n",
       "</div>"
      ],
      "text/plain": [
       "   Unnamed: 0  Dst Port            Timestamp  Flow Duration  Tot Fwd Pkts  \\\n",
       "0        1751       445  02/03/2018 11:56:54         932785             5   \n",
       "1        4342      3389  02/03/2018 12:36:44      119119923           108   \n",
       "2       10541         0  02/03/2018 01:47:10         480525             5   \n",
       "3        2698       445  02/03/2018 12:11:57         350527             3   \n",
       "4        1757      3389  02/03/2018 11:54:58      119814826           113   \n",
       "\n",
       "   Tot Bwd Pkts  TotLen Fwd Pkts  TotLen Bwd Pkts  Fwd Pkt Len Max  \\\n",
       "0             3              277              172              140   \n",
       "1           106               51             5406               51   \n",
       "2             0                0                0                0   \n",
       "3             1                0                0                0   \n",
       "4           111               51             5661               51   \n",
       "\n",
       "   Fwd Pkt Len Min  ...  Active Max  Active Min  Idle Mean  Idle Std  \\\n",
       "0                0  ...         0.0         0.0        0.0       0.0   \n",
       "1                0  ...         0.0         0.0        0.0       0.0   \n",
       "2                0  ...         0.0         0.0        0.0       0.0   \n",
       "3                0  ...         0.0         0.0        0.0       0.0   \n",
       "4                0  ...         0.0         0.0        0.0       0.0   \n",
       "\n",
       "   Idle Max  Idle Min  Label  Protocol_0  Protocol_6  Protocol_17  \n",
       "0       0.0       0.0      0           0           1            0  \n",
       "1       0.0       0.0      0           0           1            0  \n",
       "2       0.0       0.0      0           1           0            0  \n",
       "3       0.0       0.0      0           0           1            0  \n",
       "4       0.0       0.0      0           0           1            0  \n",
       "\n",
       "[5 rows x 83 columns]"
      ]
     },
     "execution_count": 4,
     "metadata": {},
     "output_type": "execute_result"
    }
   ],
   "source": [
    "train_data.head(5)"
   ]
  },
  {
   "cell_type": "code",
   "execution_count": 5,
   "metadata": {},
   "outputs": [
    {
     "data": {
      "text/plain": [
       "0       1547\n",
       "1        897\n",
       "2       1601\n",
       "3       3162\n",
       "4       1597\n",
       "        ... \n",
       "3994    3237\n",
       "3995    2742\n",
       "3996    1150\n",
       "3997    1436\n",
       "3998    3110\n",
       "Name: Unnamed: 0, Length: 3999, dtype: int64"
      ]
     },
     "execution_count": 5,
     "metadata": {},
     "output_type": "execute_result"
    }
   ],
   "source": [
    "train_data.pop(\"Unnamed: 0\")\n",
    "test_data.pop(\"Unnamed: 0\")"
   ]
  },
  {
   "cell_type": "code",
   "execution_count": 7,
   "metadata": {},
   "outputs": [
    {
     "data": {
      "text/plain": [
       "0       02/03/2018 10:50:10\n",
       "1       02/03/2018 09:35:20\n",
       "2       02/03/2018 02:49:01\n",
       "3       02/03/2018 05:25:13\n",
       "4       02/03/2018 02:30:14\n",
       "               ...         \n",
       "3994    02/03/2018 03:15:14\n",
       "3995    02/03/2018 03:51:39\n",
       "3996    02/03/2018 02:41:55\n",
       "3997    02/03/2018 03:45:06\n",
       "3998    02/03/2018 03:13:11\n",
       "Name: Timestamp, Length: 3999, dtype: object"
      ]
     },
     "execution_count": 7,
     "metadata": {},
     "output_type": "execute_result"
    }
   ],
   "source": [
    "train_data.pop(\"Timestamp\")\n",
    "test_data.pop(\"Timestamp\")"
   ]
  },
  {
   "cell_type": "code",
   "execution_count": 8,
   "metadata": {},
   "outputs": [],
   "source": [
    "train_data = train_data[np.isfinite(train_data).all(1)]\n",
    "test_data = test_data[np.isfinite(test_data).all(1)]"
   ]
  },
  {
   "cell_type": "code",
   "execution_count": 9,
   "metadata": {},
   "outputs": [
    {
     "name": "stdout",
     "output_type": "stream",
     "text": [
      "Label distribution Training set:\n",
      "1    11421\n",
      "0      579\n",
      "Name: Label, dtype: int64\n",
      "\n",
      "Label distribution Test set:\n",
      "1    3223\n",
      "0     776\n",
      "Name: Label, dtype: int64\n"
     ]
    }
   ],
   "source": [
    "print('Label distribution Training set:')\n",
    "print(train_data['Label'].value_counts())\n",
    "print()\n",
    "print('Label distribution Test set:')\n",
    "print(test_data['Label'].value_counts())"
   ]
  },
  {
   "cell_type": "code",
   "execution_count": 10,
   "metadata": {},
   "outputs": [
    {
     "name": "stdout",
     "output_type": "stream",
     "text": [
      "Dimensions of the Training set: (12000, 81)\n",
      "Dimensions of the Testing set: (3999, 81)\n"
     ]
    }
   ],
   "source": [
    "print('Dimensions of the Training set:',train_data.shape)\n",
    "print('Dimensions of the Testing set:',test_data.shape)"
   ]
  },
  {
   "cell_type": "code",
   "execution_count": 11,
   "metadata": {},
   "outputs": [
    {
     "name": "stdout",
     "output_type": "stream",
     "text": [
      "Train:\n",
      "Dimensions of Benign: (579, 81)\n",
      "Dimensions of Infilteration: (12000, 81)\n",
      "\n",
      "Test:\n",
      "Dimensions of Begin: (776, 81)\n",
      "Dimensions of Infilteration: (3999, 81)\n"
     ]
    }
   ],
   "source": [
    "to_drop_Benign = [0,0]\n",
    "to_drop_Infilteration = [0,1]\n",
    "\n",
    "Benign_df=train_data[train_data['Label'].isin(to_drop_Benign)];\n",
    "Infilteration_df=train_data[train_data['Label'].isin(to_drop_Infilteration)];\n",
    "\n",
    "#test\n",
    "Benign_df_test=test_data[test_data['Label'].isin(to_drop_Benign)];\n",
    "Infilteration_df_test=test_data[test_data['Label'].isin(to_drop_Infilteration)];\n",
    "\n",
    "print('Train:')\n",
    "print('Dimensions of Benign:' ,Benign_df.shape)\n",
    "print('Dimensions of Infilteration:' ,Infilteration_df.shape)\n",
    "print()\n",
    "print('Test:')\n",
    "print('Dimensions of Begin:' ,Benign_df_test.shape)\n",
    "print('Dimensions of Infilteration:' ,Infilteration_df_test.shape)"
   ]
  },
  {
   "cell_type": "code",
   "execution_count": 12,
   "metadata": {},
   "outputs": [],
   "source": [
    "#Split dataframes into X & Y\n",
    "# X Properties, Y result variables\n",
    "\n",
    "X_Benign = Benign_df.drop('Label',1)\n",
    "Y_Benign = Benign_df.Label\n",
    "\n",
    "X_Infilteration = Infilteration_df.drop('Label',1)\n",
    "Y_Infilteration = Infilteration_df.Label\n",
    "\n",
    "\n",
    "#test\n",
    "X_Benign_test = Benign_df_test.drop('Label',1)\n",
    "Y_Benign_test = Benign_df_test.Label\n",
    "\n",
    "X_Infilteration_test = Infilteration_df_test.drop('Label',1)\n",
    "Y_Infilteration_test = Infilteration_df_test.Label\n"
   ]
  },
  {
   "cell_type": "code",
   "execution_count": 13,
   "metadata": {},
   "outputs": [],
   "source": [
    "from sklearn import preprocessing\n",
    "\n",
    "scaler2 = preprocessing.StandardScaler().fit(X_Infilteration)\n",
    "X_Infilteration=scaler2.transform(X_Infilteration)\n",
    "\n",
    "\n",
    "# test data\n",
    "\n",
    "scaler4 = preprocessing.StandardScaler().fit(X_Infilteration_test)\n",
    "X_Infilteration_test=scaler4.transform(X_Infilteration_test)"
   ]
  },
  {
   "cell_type": "markdown",
   "metadata": {},
   "source": [
    "# SVM"
   ]
  },
  {
   "cell_type": "code",
   "execution_count": 14,
   "metadata": {},
   "outputs": [],
   "source": [
    "import time"
   ]
  },
  {
   "cell_type": "code",
   "execution_count": 15,
   "metadata": {},
   "outputs": [],
   "source": [
    "from sklearn.svm import SVC\n",
    "\n",
    "#clf_SVM_Benign=SVC(kernel='linear', C=1.0, random_state=0)\n",
    "clf_SVM_Infilteration=SVC(kernel='linear', C=1.0, random_state=0)\n",
    "train0 = time.time()\n",
    "\n",
    "\n",
    "#clf_SVM_Benign.fit(X_Benign, Y_Benign.astype(int))\n",
    "clf_SVM_Infilteration.fit(X_Infilteration, Y_Infilteration.astype(int))\n",
    "train1 = time.time() - train0\n"
   ]
  },
  {
   "cell_type": "code",
   "execution_count": 16,
   "metadata": {},
   "outputs": [
    {
     "data": {
      "text/html": [
       "<div>\n",
       "<style scoped>\n",
       "    .dataframe tbody tr th:only-of-type {\n",
       "        vertical-align: middle;\n",
       "    }\n",
       "\n",
       "    .dataframe tbody tr th {\n",
       "        vertical-align: top;\n",
       "    }\n",
       "\n",
       "    .dataframe thead th {\n",
       "        text-align: right;\n",
       "    }\n",
       "</style>\n",
       "<table border=\"1\" class=\"dataframe\">\n",
       "  <thead>\n",
       "    <tr style=\"text-align: right;\">\n",
       "      <th>Predicted attacks</th>\n",
       "      <th>0</th>\n",
       "      <th>1</th>\n",
       "    </tr>\n",
       "    <tr>\n",
       "      <th>Actual attacks</th>\n",
       "      <th></th>\n",
       "      <th></th>\n",
       "    </tr>\n",
       "  </thead>\n",
       "  <tbody>\n",
       "    <tr>\n",
       "      <th>0</th>\n",
       "      <td>542</td>\n",
       "      <td>234</td>\n",
       "    </tr>\n",
       "    <tr>\n",
       "      <th>1</th>\n",
       "      <td>340</td>\n",
       "      <td>2883</td>\n",
       "    </tr>\n",
       "  </tbody>\n",
       "</table>\n",
       "</div>"
      ],
      "text/plain": [
       "Predicted attacks    0     1\n",
       "Actual attacks              \n",
       "0                  542   234\n",
       "1                  340  2883"
      ]
     },
     "execution_count": 16,
     "metadata": {},
     "output_type": "execute_result"
    }
   ],
   "source": [
    "test0 = time.time()\n",
    "Y_Infilteration_pred=clf_SVM_Infilteration.predict(X_Infilteration_test)\n",
    "test1 = time.time() - test0\n",
    "\n",
    "# Create confusion matrix\n",
    "pd.crosstab(Y_Infilteration_test, Y_Infilteration_pred, rownames=['Actual attacks'], colnames=['Predicted attacks'])"
   ]
  },
  {
   "cell_type": "code",
   "execution_count": 17,
   "metadata": {},
   "outputs": [
    {
     "name": "stdout",
     "output_type": "stream",
     "text": [
      "Accuracy: 0.99750 (+/- 0.00671)\n",
      "Precision: 0.99754 (+/- 0.00815)\n",
      "Recall: 0.99938 (+/- 0.00373)\n",
      "F-measure: 0.99845 (+/- 0.00415)\n",
      "train_time:0.343s\n",
      "\n",
      "test_time:0.022s\n",
      "\n"
     ]
    }
   ],
   "source": [
    "from sklearn.model_selection import cross_val_score\n",
    "from sklearn import metrics\n",
    "accuracy = cross_val_score(clf_SVM_Infilteration, X_Infilteration_test, Y_Infilteration_test, cv=10, scoring='accuracy')\n",
    "print(\"Accuracy: %0.5f (+/- %0.5f)\" % (accuracy.mean(), accuracy.std() * 2))\n",
    "precision = cross_val_score(clf_SVM_Infilteration, X_Infilteration_test, Y_Infilteration_test, cv=10, scoring='precision')\n",
    "print(\"Precision: %0.5f (+/- %0.5f)\" % (precision.mean(), precision.std() * 2))\n",
    "recall = cross_val_score(clf_SVM_Infilteration, X_Infilteration_test, Y_Infilteration_test, cv=10, scoring='recall')\n",
    "print(\"Recall: %0.5f (+/- %0.5f)\" % (recall.mean(), recall.std() * 2))\n",
    "f = cross_val_score(clf_SVM_Infilteration, X_Infilteration_test, Y_Infilteration_test, cv=10, scoring='f1')\n",
    "print(\"F-measure: %0.5f (+/- %0.5f)\" % (f.mean(), f.std() * 2))\n",
    "print(\"train_time:%.3fs\\n\" %train1)\n",
    "print(\"test_time:%.3fs\\n\" %test1)"
   ]
  },
  {
   "cell_type": "code",
   "execution_count": 18,
   "metadata": {},
   "outputs": [
    {
     "name": "stdout",
     "output_type": "stream",
     "text": [
      "Area under the ROC curve: %f 0.7964809152003479\n",
      "Threshold: %f [2 1 0]\n",
      "FPR: %f [0.         0.30154639 1.        ]\n",
      "TPR: %f [0.         0.89450822 1.        ]\n"
     ]
    }
   ],
   "source": [
    "from sklearn.metrics import roc_curve, auc\n",
    "\n",
    "fpr, tpr, thresholds = roc_curve(Y_Infilteration_test, Y_Infilteration_pred)\n",
    "roc_auc = auc(fpr, tpr)\n",
    "print(\"Area under the ROC curve: %f\", roc_auc)\n",
    "print(\"Threshold: %f\", thresholds)\n",
    "print(\"FPR: %f\", fpr)\n",
    "print(\"TPR: %f\", tpr)"
   ]
  },
  {
   "cell_type": "code",
   "execution_count": 19,
   "metadata": {},
   "outputs": [
    {
     "data": {
      "image/png": "[encoded data removed]",
      "text/plain": [
       "<Figure size 432x288 with 1 Axes>"
      ]
     },
     "metadata": {
      "needs_background": "light"
     },
     "output_type": "display_data"
    }
   ],
   "source": [
    "import pylab as pl\n",
    "\n",
    "pl.clf()\n",
    "pl.plot(fpr, tpr, label='ROC curve (area =%0.2f)'% roc_auc)\n",
    "pl.plot([0,1],[0,1], 'k--')\n",
    "pl.xlim([0.0, 1.0])\n",
    "pl.ylim([0.0, 1.0])\n",
    "pl.xlabel('False Postive Rate')\n",
    "pl.ylabel('True Postive Rate')\n",
    "pl.title('Receiver operating characteristic')\n",
    "pl.legend(loc=\"lower right\")\n",
    "pl.show()"
   ]
  },
  {
   "cell_type": "code",
   "execution_count": 20,
   "metadata": {},
   "outputs": [],
   "source": [
    "from sklearn.svm import SVC\n",
    "\n",
    "clf_SVM_Infilteration=SVC(kernel='rbf', C=1.0, random_state=0)\n",
    "train0 = time.time()\n",
    "\n",
    "clf_SVM_Infilteration.fit(X_Infilteration, Y_Infilteration.astype(int))\n",
    "train1 = time.time() - train0"
   ]
  },
  {
   "cell_type": "code",
   "execution_count": 21,
   "metadata": {},
   "outputs": [
    {
     "data": {
      "text/html": [
       "<div>\n",
       "<style scoped>\n",
       "    .dataframe tbody tr th:only-of-type {\n",
       "        vertical-align: middle;\n",
       "    }\n",
       "\n",
       "    .dataframe tbody tr th {\n",
       "        vertical-align: top;\n",
       "    }\n",
       "\n",
       "    .dataframe thead th {\n",
       "        text-align: right;\n",
       "    }\n",
       "</style>\n",
       "<table border=\"1\" class=\"dataframe\">\n",
       "  <thead>\n",
       "    <tr style=\"text-align: right;\">\n",
       "      <th>Predicted attacks</th>\n",
       "      <th>0</th>\n",
       "      <th>1</th>\n",
       "    </tr>\n",
       "    <tr>\n",
       "      <th>Actual attacks</th>\n",
       "      <th></th>\n",
       "      <th></th>\n",
       "    </tr>\n",
       "  </thead>\n",
       "  <tbody>\n",
       "    <tr>\n",
       "      <th>0</th>\n",
       "      <td>538</td>\n",
       "      <td>238</td>\n",
       "    </tr>\n",
       "    <tr>\n",
       "      <th>1</th>\n",
       "      <td>7</td>\n",
       "      <td>3216</td>\n",
       "    </tr>\n",
       "  </tbody>\n",
       "</table>\n",
       "</div>"
      ],
      "text/plain": [
       "Predicted attacks    0     1\n",
       "Actual attacks              \n",
       "0                  538   238\n",
       "1                    7  3216"
      ]
     },
     "execution_count": 21,
     "metadata": {},
     "output_type": "execute_result"
    }
   ],
   "source": [
    "test0 = time.time()\n",
    "Y_Infilteration_pred=clf_SVM_Infilteration.predict(X_Infilteration_test)\n",
    "test1 = time.time() - test0\n",
    "\n",
    "# Create confusion matrix\n",
    "pd.crosstab(Y_Infilteration_test, Y_Infilteration_pred, rownames=['Actual attacks'], colnames=['Predicted attacks'])"
   ]
  },
  {
   "cell_type": "code",
   "execution_count": 22,
   "metadata": {},
   "outputs": [
    {
     "name": "stdout",
     "output_type": "stream",
     "text": [
      "Accuracy: 0.99800 (+/- 0.00374)\n",
      "Precision: 0.99877 (+/- 0.00409)\n",
      "Recall: 0.99876 (+/- 0.00412)\n",
      "F-measure: 0.99876 (+/- 0.00232)\n",
      "train_time:0.396s\n",
      "\n",
      "test_time:0.104s\n",
      "\n"
     ]
    }
   ],
   "source": [
    "from sklearn.model_selection import cross_val_score\n",
    "from sklearn import metrics\n",
    "accuracy = cross_val_score(clf_SVM_Infilteration, X_Infilteration_test, Y_Infilteration_test, cv=10, scoring='accuracy')\n",
    "print(\"Accuracy: %0.5f (+/- %0.5f)\" % (accuracy.mean(), accuracy.std() * 2))\n",
    "precision = cross_val_score(clf_SVM_Infilteration, X_Infilteration_test, Y_Infilteration_test, cv=10, scoring='precision')\n",
    "print(\"Precision: %0.5f (+/- %0.5f)\" % (precision.mean(), precision.std() * 2))\n",
    "recall = cross_val_score(clf_SVM_Infilteration, X_Infilteration_test, Y_Infilteration_test, cv=10, scoring='recall')\n",
    "print(\"Recall: %0.5f (+/- %0.5f)\" % (recall.mean(), recall.std() * 2))\n",
    "f = cross_val_score(clf_SVM_Infilteration, X_Infilteration_test, Y_Infilteration_test, cv=10, scoring='f1')\n",
    "print(\"F-measure: %0.5f (+/- %0.5f)\" % (f.mean(), f.std() * 2))\n",
    "print(\"train_time:%.3fs\\n\" %train1)\n",
    "print(\"test_time:%.3fs\\n\" %test1)"
   ]
  },
  {
   "cell_type": "code",
   "execution_count": 23,
   "metadata": {},
   "outputs": [
    {
     "name": "stdout",
     "output_type": "stream",
     "text": [
      "Area under the ROC curve: %f 0.8455635397641309\n",
      "Threshold: %f [2 1 0]\n",
      "FPR: %f [0.         0.30670103 1.        ]\n",
      "TPR: %f [0.         0.99782811 1.        ]\n"
     ]
    }
   ],
   "source": [
    "from sklearn.metrics import roc_curve, auc\n",
    "\n",
    "fpr, tpr, thresholds = roc_curve(Y_Infilteration_test, Y_Infilteration_pred)\n",
    "roc_auc = auc(fpr, tpr)\n",
    "print(\"Area under the ROC curve: %f\", roc_auc)\n",
    "print(\"Threshold: %f\", thresholds)\n",
    "print(\"FPR: %f\", fpr)\n",
    "print(\"TPR: %f\", tpr)"
   ]
  },
  {
   "cell_type": "code",
   "execution_count": 24,
   "metadata": {},
   "outputs": [
    {
     "data": {
      "image/png": "[encoded data removed]",
      "text/plain": [
       "<Figure size 432x288 with 1 Axes>"
      ]
     },
     "metadata": {
      "needs_background": "light"
     },
     "output_type": "display_data"
    }
   ],
   "source": [
    "import pylab as pl\n",
    "\n",
    "pl.clf()\n",
    "pl.plot(fpr, tpr, label='ROC curve (area =%0.2f)'% roc_auc)\n",
    "pl.plot([0,1],[0,1], 'k--')\n",
    "pl.xlim([0.0, 1.0])\n",
    "pl.ylim([0.0, 1.0])\n",
    "pl.xlabel('False Postive Rate')\n",
    "pl.ylabel('True Postive Rate')\n",
    "pl.title('Receiver operating characteristic')\n",
    "pl.legend(loc=\"lower right\")\n",
    "pl.show()"
   ]
  },
  {
   "cell_type": "code",
   "execution_count": 25,
   "metadata": {},
   "outputs": [],
   "source": [
    "from sklearn.svm import SVC\n",
    "\n",
    "clf_SVM_Infilteration=SVC(kernel='poly', C=1.0, random_state=0)\n",
    "train0 = time.time()\n",
    "\n",
    "clf_SVM_Infilteration.fit(X_Infilteration, Y_Infilteration.astype(int))\n",
    "train1 = time.time() - train0"
   ]
  },
  {
   "cell_type": "code",
   "execution_count": 26,
   "metadata": {},
   "outputs": [
    {
     "data": {
      "text/html": [
       "<div>\n",
       "<style scoped>\n",
       "    .dataframe tbody tr th:only-of-type {\n",
       "        vertical-align: middle;\n",
       "    }\n",
       "\n",
       "    .dataframe tbody tr th {\n",
       "        vertical-align: top;\n",
       "    }\n",
       "\n",
       "    .dataframe thead th {\n",
       "        text-align: right;\n",
       "    }\n",
       "</style>\n",
       "<table border=\"1\" class=\"dataframe\">\n",
       "  <thead>\n",
       "    <tr style=\"text-align: right;\">\n",
       "      <th>Predicted attacks</th>\n",
       "      <th>0</th>\n",
       "      <th>1</th>\n",
       "    </tr>\n",
       "    <tr>\n",
       "      <th>Actual attacks</th>\n",
       "      <th></th>\n",
       "      <th></th>\n",
       "    </tr>\n",
       "  </thead>\n",
       "  <tbody>\n",
       "    <tr>\n",
       "      <th>0</th>\n",
       "      <td>33</td>\n",
       "      <td>743</td>\n",
       "    </tr>\n",
       "    <tr>\n",
       "      <th>1</th>\n",
       "      <td>0</td>\n",
       "      <td>3223</td>\n",
       "    </tr>\n",
       "  </tbody>\n",
       "</table>\n",
       "</div>"
      ],
      "text/plain": [
       "Predicted attacks   0     1\n",
       "Actual attacks             \n",
       "0                  33   743\n",
       "1                   0  3223"
      ]
     },
     "execution_count": 26,
     "metadata": {},
     "output_type": "execute_result"
    }
   ],
   "source": [
    "test0 = time.time()\n",
    "Y_Infilteration_pred=clf_SVM_Infilteration.predict(X_Infilteration_test)\n",
    "test1 = time.time() - test0\n",
    "\n",
    "# Create confusion matrix\n",
    "pd.crosstab(Y_Infilteration_test, Y_Infilteration_pred, rownames=['Actual attacks'], colnames=['Predicted attacks'])"
   ]
  },
  {
   "cell_type": "code",
   "execution_count": 27,
   "metadata": {},
   "outputs": [
    {
     "name": "stdout",
     "output_type": "stream",
     "text": [
      "Accuracy: 0.95124 (+/- 0.01435)\n",
      "Precision: 0.94328 (+/- 0.01573)\n",
      "Recall: 0.99969 (+/- 0.00186)\n",
      "F-measure: 0.97065 (+/- 0.00836)\n",
      "train_time:0.248s\n",
      "\n",
      "test_time:0.043s\n",
      "\n"
     ]
    }
   ],
   "source": [
    "from sklearn.model_selection import cross_val_score\n",
    "from sklearn import metrics\n",
    "accuracy = cross_val_score(clf_SVM_Infilteration, X_Infilteration_test, Y_Infilteration_test, cv=10, scoring='accuracy')\n",
    "print(\"Accuracy: %0.5f (+/- %0.5f)\" % (accuracy.mean(), accuracy.std() * 2))\n",
    "precision = cross_val_score(clf_SVM_Infilteration, X_Infilteration_test, Y_Infilteration_test, cv=10, scoring='precision')\n",
    "print(\"Precision: %0.5f (+/- %0.5f)\" % (precision.mean(), precision.std() * 2))\n",
    "recall = cross_val_score(clf_SVM_Infilteration, X_Infilteration_test, Y_Infilteration_test, cv=10, scoring='recall')\n",
    "print(\"Recall: %0.5f (+/- %0.5f)\" % (recall.mean(), recall.std() * 2))\n",
    "f = cross_val_score(clf_SVM_Infilteration, X_Infilteration_test, Y_Infilteration_test, cv=10, scoring='f1')\n",
    "print(\"F-measure: %0.5f (+/- %0.5f)\" % (f.mean(), f.std() * 2))\n",
    "print(\"train_time:%.3fs\\n\" %train1)\n",
    "print(\"test_time:%.3fs\\n\" %test1)"
   ]
  },
  {
   "cell_type": "code",
   "execution_count": 28,
   "metadata": {},
   "outputs": [
    {
     "name": "stdout",
     "output_type": "stream",
     "text": [
      "Area under the ROC curve: %f 0.5212628865979381\n",
      "Threshold: %f [2 1 0]\n",
      "FPR: %f [0.         0.95747423 1.        ]\n",
      "TPR: %f [0. 1. 1.]\n"
     ]
    }
   ],
   "source": [
    "from sklearn.metrics import roc_curve, auc\n",
    "\n",
    "fpr, tpr, thresholds = roc_curve(Y_Infilteration_test, Y_Infilteration_pred)\n",
    "roc_auc = auc(fpr, tpr)\n",
    "print(\"Area under the ROC curve: %f\", roc_auc)\n",
    "print(\"Threshold: %f\", thresholds)\n",
    "print(\"FPR: %f\", fpr)\n",
    "print(\"TPR: %f\", tpr)"
   ]
  },
  {
   "cell_type": "code",
   "execution_count": 29,
   "metadata": {},
   "outputs": [
    {
     "data": {
      "image/png": "[encoded data removed]",
      "text/plain": [
       "<Figure size 432x288 with 1 Axes>"
      ]
     },
     "metadata": {
      "needs_background": "light"
     },
     "output_type": "display_data"
    }
   ],
   "source": [
    "import pylab as pl\n",
    "\n",
    "pl.clf()\n",
    "pl.plot(fpr, tpr, label='ROC curve (area =%0.2f)'% roc_auc)\n",
    "pl.plot([0,1],[0,1], 'k--')\n",
    "pl.xlim([0.0, 1.0])\n",
    "pl.ylim([0.0, 1.0])\n",
    "pl.xlabel('False Postive Rate')\n",
    "pl.ylabel('True Postive Rate')\n",
    "pl.title('Receiver operating characteristic')\n",
    "pl.legend(loc=\"lower right\")\n",
    "pl.show()"
   ]
  },
  {
   "cell_type": "code",
   "execution_count": 30,
   "metadata": {},
   "outputs": [],
   "source": [
    "from sklearn.svm import SVC\n",
    "\n",
    "clf_SVM_Infilteration=SVC(kernel='sigmoid', C=1.0, random_state=0)\n",
    "train0 = time.time()\n",
    "\n",
    "clf_SVM_Infilteration.fit(X_Infilteration, Y_Infilteration.astype(int))\n",
    "train1 = time.time() - train0"
   ]
  },
  {
   "cell_type": "code",
   "execution_count": 31,
   "metadata": {},
   "outputs": [
    {
     "data": {
      "text/html": [
       "<div>\n",
       "<style scoped>\n",
       "    .dataframe tbody tr th:only-of-type {\n",
       "        vertical-align: middle;\n",
       "    }\n",
       "\n",
       "    .dataframe tbody tr th {\n",
       "        vertical-align: top;\n",
       "    }\n",
       "\n",
       "    .dataframe thead th {\n",
       "        text-align: right;\n",
       "    }\n",
       "</style>\n",
       "<table border=\"1\" class=\"dataframe\">\n",
       "  <thead>\n",
       "    <tr style=\"text-align: right;\">\n",
       "      <th>Predicted attacks</th>\n",
       "      <th>0</th>\n",
       "      <th>1</th>\n",
       "    </tr>\n",
       "    <tr>\n",
       "      <th>Actual attacks</th>\n",
       "      <th></th>\n",
       "      <th></th>\n",
       "    </tr>\n",
       "  </thead>\n",
       "  <tbody>\n",
       "    <tr>\n",
       "      <th>0</th>\n",
       "      <td>145</td>\n",
       "      <td>631</td>\n",
       "    </tr>\n",
       "    <tr>\n",
       "      <th>1</th>\n",
       "      <td>337</td>\n",
       "      <td>2886</td>\n",
       "    </tr>\n",
       "  </tbody>\n",
       "</table>\n",
       "</div>"
      ],
      "text/plain": [
       "Predicted attacks    0     1\n",
       "Actual attacks              \n",
       "0                  145   631\n",
       "1                  337  2886"
      ]
     },
     "execution_count": 31,
     "metadata": {},
     "output_type": "execute_result"
    }
   ],
   "source": [
    "test0 = time.time()\n",
    "Y_Infilteration_pred=clf_SVM_Infilteration.predict(X_Infilteration_test)\n",
    "test1 = time.time() - test0\n",
    "\n",
    "# Create confusion matrix\n",
    "pd.crosstab(Y_Infilteration_test, Y_Infilteration_pred, rownames=['Actual attacks'], colnames=['Predicted attacks'])"
   ]
  },
  {
   "cell_type": "code",
   "execution_count": 32,
   "metadata": {},
   "outputs": [
    {
     "name": "stdout",
     "output_type": "stream",
     "text": [
      "Accuracy: 0.96349 (+/- 0.02262)\n",
      "Precision: 0.96203 (+/- 0.02512)\n",
      "Recall: 0.99411 (+/- 0.00585)\n",
      "F-measure: 0.97776 (+/- 0.01357)\n",
      "train_time:2.511s\n",
      "\n",
      "test_time:0.201s\n",
      "\n"
     ]
    }
   ],
   "source": [
    "from sklearn.model_selection import cross_val_score\n",
    "from sklearn import metrics\n",
    "accuracy = cross_val_score(clf_SVM_Infilteration, X_Infilteration_test, Y_Infilteration_test, cv=10, scoring='accuracy')\n",
    "print(\"Accuracy: %0.5f (+/- %0.5f)\" % (accuracy.mean(), accuracy.std() * 2))\n",
    "precision = cross_val_score(clf_SVM_Infilteration, X_Infilteration_test, Y_Infilteration_test, cv=10, scoring='precision')\n",
    "print(\"Precision: %0.5f (+/- %0.5f)\" % (precision.mean(), precision.std() * 2))\n",
    "recall = cross_val_score(clf_SVM_Infilteration, X_Infilteration_test, Y_Infilteration_test, cv=10, scoring='recall')\n",
    "print(\"Recall: %0.5f (+/- %0.5f)\" % (recall.mean(), recall.std() * 2))\n",
    "f = cross_val_score(clf_SVM_Infilteration, X_Infilteration_test, Y_Infilteration_test, cv=10, scoring='f1')\n",
    "print(\"F-measure: %0.5f (+/- %0.5f)\" % (f.mean(), f.std() * 2))\n",
    "print(\"train_time:%.3fs\\n\" %train1)\n",
    "print(\"test_time:%.3fs\\n\" %test1)"
   ]
  },
  {
   "cell_type": "code",
   "execution_count": 33,
   "metadata": {},
   "outputs": [
    {
     "name": "stdout",
     "output_type": "stream",
     "text": [
      "Area under the ROC curve: %f 0.5411473510304481\n",
      "Threshold: %f [2 1 0]\n",
      "FPR: %f [0.         0.81314433 1.        ]\n",
      "TPR: %f [0.         0.89543903 1.        ]\n"
     ]
    }
   ],
   "source": [
    "from sklearn.metrics import roc_curve, auc\n",
    "\n",
    "fpr, tpr, thresholds = roc_curve(Y_Infilteration_test, Y_Infilteration_pred)\n",
    "roc_auc = auc(fpr, tpr)\n",
    "print(\"Area under the ROC curve: %f\", roc_auc)\n",
    "print(\"Threshold: %f\", thresholds)\n",
    "print(\"FPR: %f\", fpr)\n",
    "print(\"TPR: %f\", tpr)"
   ]
  },
  {
   "cell_type": "code",
   "execution_count": 34,
   "metadata": {},
   "outputs": [
    {
     "data": {
      "image/png": "[encoded data removed]",
      "text/plain": [
       "<Figure size 432x288 with 1 Axes>"
      ]
     },
     "metadata": {
      "needs_background": "light"
     },
     "output_type": "display_data"
    }
   ],
   "source": [
    "import pylab as pl\n",
    "\n",
    "pl.clf()\n",
    "pl.plot(fpr, tpr, label='ROC curve (area =%0.2f)'% roc_auc)\n",
    "pl.plot([0,1],[0,1], 'k--')\n",
    "pl.xlim([0.0, 1.0])\n",
    "pl.ylim([0.0, 1.0])\n",
    "pl.xlabel('False Postive Rate')\n",
    "pl.ylabel('True Postive Rate')\n",
    "pl.title('Receiver operating characteristic')\n",
    "pl.legend(loc=\"lower right\")\n",
    "pl.show()"
   ]
  },
  {
   "cell_type": "code",
   "execution_count": null,
   "metadata": {},
   "outputs": [],
   "source": []
  }
 ],
 "metadata": {
  "kernelspec": {
   "display_name": "Python 3",
   "language": "python",
   "name": "python3"
  },
  "language_info": {
   "codemirror_mode": {
    "name": "ipython",
    "version": 3
   },
   "file_extension": ".py",
   "mimetype": "text/x-python",
   "name": "python",
   "nbconvert_exporter": "python",
   "pygments_lexer": "ipython3",
   "version": "3.7.3"
  }
 },
 "nbformat": 4,
 "nbformat_minor": 2
}
